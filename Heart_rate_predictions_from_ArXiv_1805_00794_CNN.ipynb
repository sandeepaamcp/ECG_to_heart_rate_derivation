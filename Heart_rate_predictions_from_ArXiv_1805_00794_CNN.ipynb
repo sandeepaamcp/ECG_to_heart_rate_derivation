{
  "nbformat": 4,
  "nbformat_minor": 0,
  "metadata": {
    "kernelspec": {
      "display_name": "Python 3",
      "language": "python",
      "name": "python3"
    },
    "language_info": {
      "name": "python",
      "version": "3.6.6",
      "mimetype": "text/x-python",
      "codemirror_mode": {
        "name": "ipython",
        "version": 3
      },
      "pygments_lexer": "ipython3",
      "nbconvert_exporter": "python",
      "file_extension": ".py"
    },
    "colab": {
      "name": "Heart_rate_predictions_from_ArXiv_1805_00794_CNN.ipynb",
      "provenance": [],
      "collapsed_sections": [],
      "toc_visible": true,
      "include_colab_link": true
    }
  },
  "cells": [
    {
      "cell_type": "markdown",
      "metadata": {
        "id": "view-in-github",
        "colab_type": "text"
      },
      "source": [
        "<a href=\"https://colab.research.google.com/github/sandeepaamcp/ECG_to_heart_rate_derivation/blob/dev/Heart_rate_predictions_from_ArXiv_1805_00794_CNN.ipynb\" target=\"_parent\"><img src=\"https://colab.research.google.com/assets/colab-badge.svg\" alt=\"Open In Colab\"/></a>"
      ]
    },
    {
      "cell_type": "code",
      "metadata": {
        "_uuid": "8f2839f25d086af736a60e9eeb907d3b93b6e0e5",
        "_cell_guid": "b1076dfc-b9ad-4769-8c92-a6c4dae69d19",
        "trusted": true,
        "id": "fU1WKbabPItn",
        "colab_type": "code",
        "outputId": "9b9f219f-c861-4c09-f8df-85834f826a83",
        "colab": {
          "base_uri": "https://localhost:8080/",
          "height": 134
        }
      },
      "source": [
        "# THE MAIN SOURCE FOR THIS CODE IS https://www.kaggle.com/coni57/model-from-arxiv-1805-00794\n",
        "# THE ASSOCIATED RESEARCH PAPER : https://arxiv.org/pdf/1805.00794\n",
        "import math\n",
        "import random\n",
        "import pickle\n",
        "import itertools\n",
        "\n",
        "import numpy as np # linear algebra\n",
        "import pandas as pd # data processing, CSV file I/O (e.g. pd.read_csv)\n",
        "\n",
        "from sklearn.metrics import accuracy_score, classification_report, confusion_matrix, label_ranking_average_precision_score, label_ranking_loss, coverage_error \n",
        "\n",
        "from sklearn.utils import shuffle\n",
        "\n",
        "from scipy.signal import resample\n",
        "\n",
        "import matplotlib.pyplot as plt\n",
        "\n",
        "np.random.seed(42)\n",
        "\n",
        "import pickle\n",
        "from sklearn.preprocessing import OneHotEncoder\n",
        "\n",
        "from keras.models import Model\n",
        "from keras.layers import Input, Dense, Conv1D, MaxPooling1D, Softmax, Add, Flatten, Activation# , Dropout\n",
        "from keras import backend as K\n",
        "from keras.optimizers import Adam\n",
        "from keras.callbacks import LearningRateScheduler, ModelCheckpoint\n",
        "\n",
        "# Input data files are available in the \"../input/\" directory.\n",
        "# For example, running this (by clicking run or pressing Shift+Enter) will list the files in the input directory\n",
        "\n",
        "import os\n",
        "from google.colab import drive\n",
        "drive.mount('/content/drive')\n",
        "\n",
        "# Any results you write to the current directory are saved as output."
      ],
      "execution_count": 1,
      "outputs": [
        {
          "output_type": "stream",
          "text": [
            "Using TensorFlow backend.\n"
          ],
          "name": "stderr"
        },
        {
          "output_type": "display_data",
          "data": {
            "text/html": [
              "<p style=\"color: red;\">\n",
              "The default version of TensorFlow in Colab will soon switch to TensorFlow 2.x.<br>\n",
              "We recommend you <a href=\"https://www.tensorflow.org/guide/migrate\" target=\"_blank\">upgrade</a> now \n",
              "or ensure your notebook will continue to use TensorFlow 1.x via the <code>%tensorflow_version 1.x</code> magic:\n",
              "<a href=\"https://colab.research.google.com/notebooks/tensorflow_version.ipynb\" target=\"_blank\">more info</a>.</p>\n"
            ],
            "text/plain": [
              "<IPython.core.display.HTML object>"
            ]
          },
          "metadata": {
            "tags": []
          }
        },
        {
          "output_type": "stream",
          "text": [
            "Drive already mounted at /content/drive; to attempt to forcibly remount, call drive.mount(\"/content/drive\", force_remount=True).\n"
          ],
          "name": "stdout"
        }
      ]
    },
    {
      "cell_type": "code",
      "metadata": {
        "_cell_guid": "79c7e3d0-c299-4dcb-8224-4455121ee9b0",
        "_uuid": "d629ff2d2480ee46fbb7e2d37f6b5fab8052498a",
        "trusted": true,
        "id": "EJJfnMbxPItu",
        "colab_type": "code",
        "colab": {}
      },
      "source": [
        "df = pd.read_csv('/content/drive/My Drive/datasets/test_results/csv/values.csv', header=None)\n",
        "# df2 = pd.read_csv(\"../input/mitbih_test.csv\", header=None)\n",
        "# df = pd.concat([df, df2], axis=0)"
      ],
      "execution_count": 0,
      "outputs": []
    },
    {
      "cell_type": "code",
      "metadata": {
        "trusted": true,
        "_uuid": "494fc8a26ba40beb73fc1a4f7b219b213fb7705e",
        "id": "GkNmHr8cPIty",
        "colab_type": "code",
        "outputId": "f632f255-aff5-4797-9282-6ffa9199ea02",
        "colab": {
          "base_uri": "https://localhost:8080/",
          "height": 253
        }
      },
      "source": [
        "df.head()"
      ],
      "execution_count": 3,
      "outputs": [
        {
          "output_type": "execute_result",
          "data": {
            "text/html": [
              "<div>\n",
              "<style scoped>\n",
              "    .dataframe tbody tr th:only-of-type {\n",
              "        vertical-align: middle;\n",
              "    }\n",
              "\n",
              "    .dataframe tbody tr th {\n",
              "        vertical-align: top;\n",
              "    }\n",
              "\n",
              "    .dataframe thead th {\n",
              "        text-align: right;\n",
              "    }\n",
              "</style>\n",
              "<table border=\"1\" class=\"dataframe\">\n",
              "  <thead>\n",
              "    <tr style=\"text-align: right;\">\n",
              "      <th></th>\n",
              "      <th>0</th>\n",
              "      <th>1</th>\n",
              "      <th>2</th>\n",
              "      <th>3</th>\n",
              "      <th>4</th>\n",
              "      <th>5</th>\n",
              "      <th>6</th>\n",
              "      <th>7</th>\n",
              "      <th>8</th>\n",
              "      <th>9</th>\n",
              "      <th>10</th>\n",
              "      <th>11</th>\n",
              "      <th>12</th>\n",
              "      <th>13</th>\n",
              "      <th>14</th>\n",
              "      <th>15</th>\n",
              "      <th>16</th>\n",
              "      <th>17</th>\n",
              "      <th>18</th>\n",
              "      <th>19</th>\n",
              "      <th>20</th>\n",
              "      <th>21</th>\n",
              "      <th>22</th>\n",
              "      <th>23</th>\n",
              "      <th>24</th>\n",
              "      <th>25</th>\n",
              "      <th>26</th>\n",
              "      <th>27</th>\n",
              "      <th>28</th>\n",
              "      <th>29</th>\n",
              "      <th>30</th>\n",
              "      <th>31</th>\n",
              "      <th>32</th>\n",
              "      <th>33</th>\n",
              "      <th>34</th>\n",
              "      <th>35</th>\n",
              "      <th>36</th>\n",
              "      <th>37</th>\n",
              "      <th>38</th>\n",
              "      <th>39</th>\n",
              "      <th>...</th>\n",
              "      <th>62</th>\n",
              "      <th>63</th>\n",
              "      <th>64</th>\n",
              "      <th>65</th>\n",
              "      <th>66</th>\n",
              "      <th>67</th>\n",
              "      <th>68</th>\n",
              "      <th>69</th>\n",
              "      <th>70</th>\n",
              "      <th>71</th>\n",
              "      <th>72</th>\n",
              "      <th>73</th>\n",
              "      <th>74</th>\n",
              "      <th>75</th>\n",
              "      <th>76</th>\n",
              "      <th>77</th>\n",
              "      <th>78</th>\n",
              "      <th>79</th>\n",
              "      <th>80</th>\n",
              "      <th>81</th>\n",
              "      <th>82</th>\n",
              "      <th>83</th>\n",
              "      <th>84</th>\n",
              "      <th>85</th>\n",
              "      <th>86</th>\n",
              "      <th>87</th>\n",
              "      <th>88</th>\n",
              "      <th>89</th>\n",
              "      <th>90</th>\n",
              "      <th>91</th>\n",
              "      <th>92</th>\n",
              "      <th>93</th>\n",
              "      <th>94</th>\n",
              "      <th>95</th>\n",
              "      <th>96</th>\n",
              "      <th>97</th>\n",
              "      <th>98</th>\n",
              "      <th>99</th>\n",
              "      <th>100</th>\n",
              "      <th>101</th>\n",
              "    </tr>\n",
              "  </thead>\n",
              "  <tbody>\n",
              "    <tr>\n",
              "      <th>0</th>\n",
              "      <td>105.820</td>\n",
              "      <td>106.762</td>\n",
              "      <td>106.007</td>\n",
              "      <td>106.007</td>\n",
              "      <td>105.079</td>\n",
              "      <td>105.820</td>\n",
              "      <td>105.820</td>\n",
              "      <td>104.895</td>\n",
              "      <td>105.634</td>\n",
              "      <td>106.007</td>\n",
              "      <td>104.895</td>\n",
              "      <td>105.263</td>\n",
              "      <td>104.530</td>\n",
              "      <td>105.448</td>\n",
              "      <td>105.634</td>\n",
              "      <td>104.895</td>\n",
              "      <td>105.448</td>\n",
              "      <td>105.634</td>\n",
              "      <td>105.263</td>\n",
              "      <td>105.448</td>\n",
              "      <td>104.712</td>\n",
              "      <td>105.448</td>\n",
              "      <td>106.007</td>\n",
              "      <td>105.448</td>\n",
              "      <td>105.634</td>\n",
              "      <td>106.007</td>\n",
              "      <td>105.448</td>\n",
              "      <td>105.634</td>\n",
              "      <td>104.895</td>\n",
              "      <td>105.634</td>\n",
              "      <td>105.634</td>\n",
              "      <td>105.634</td>\n",
              "      <td>105.820</td>\n",
              "      <td>106.195</td>\n",
              "      <td>105.079</td>\n",
              "      <td>105.820</td>\n",
              "      <td>105.263</td>\n",
              "      <td>106.007</td>\n",
              "      <td>106.195</td>\n",
              "      <td>105.634</td>\n",
              "      <td>...</td>\n",
              "      <td>106.007</td>\n",
              "      <td>106.195</td>\n",
              "      <td>106.007</td>\n",
              "      <td>105.448</td>\n",
              "      <td>106.007</td>\n",
              "      <td>105.079</td>\n",
              "      <td>105.634</td>\n",
              "      <td>105.448</td>\n",
              "      <td>106.383</td>\n",
              "      <td>105.634</td>\n",
              "      <td>105.079</td>\n",
              "      <td>106.383</td>\n",
              "      <td>105.263</td>\n",
              "      <td>105.263</td>\n",
              "      <td>106.007</td>\n",
              "      <td>105.079</td>\n",
              "      <td>105.263</td>\n",
              "      <td>105.634</td>\n",
              "      <td>104.712</td>\n",
              "      <td>105.079</td>\n",
              "      <td>105.448</td>\n",
              "      <td>103.986</td>\n",
              "      <td>105.263</td>\n",
              "      <td>105.448</td>\n",
              "      <td>104.712</td>\n",
              "      <td>105.079</td>\n",
              "      <td>105.634</td>\n",
              "      <td>105.079</td>\n",
              "      <td>105.634</td>\n",
              "      <td>104.530</td>\n",
              "      <td>105.263</td>\n",
              "      <td>105.634</td>\n",
              "      <td>105.079</td>\n",
              "      <td>105.634</td>\n",
              "      <td>104.895</td>\n",
              "      <td>105.079</td>\n",
              "      <td>104.895</td>\n",
              "      <td>105.079</td>\n",
              "      <td>105.448</td>\n",
              "      <td>0</td>\n",
              "    </tr>\n",
              "    <tr>\n",
              "      <th>1</th>\n",
              "      <td>65.005</td>\n",
              "      <td>65.076</td>\n",
              "      <td>63.694</td>\n",
              "      <td>67.039</td>\n",
              "      <td>66.815</td>\n",
              "      <td>66.298</td>\n",
              "      <td>60.423</td>\n",
              "      <td>59.880</td>\n",
              "      <td>60.302</td>\n",
              "      <td>66.741</td>\n",
              "      <td>70.588</td>\n",
              "      <td>69.606</td>\n",
              "      <td>65.359</td>\n",
              "      <td>62.048</td>\n",
              "      <td>66.964</td>\n",
              "      <td>66.890</td>\n",
              "      <td>62.565</td>\n",
              "      <td>60.914</td>\n",
              "      <td>62.500</td>\n",
              "      <td>66.152</td>\n",
              "      <td>70.671</td>\n",
              "      <td>70.922</td>\n",
              "      <td>67.568</td>\n",
              "      <td>63.966</td>\n",
              "      <td>69.444</td>\n",
              "      <td>71.942</td>\n",
              "      <td>71.856</td>\n",
              "      <td>67.492</td>\n",
              "      <td>66.815</td>\n",
              "      <td>66.593</td>\n",
              "      <td>69.767</td>\n",
              "      <td>67.720</td>\n",
              "      <td>66.890</td>\n",
              "      <td>67.720</td>\n",
              "      <td>70.671</td>\n",
              "      <td>70.175</td>\n",
              "      <td>68.571</td>\n",
              "      <td>66.519</td>\n",
              "      <td>68.807</td>\n",
              "      <td>70.671</td>\n",
              "      <td>...</td>\n",
              "      <td>65.502</td>\n",
              "      <td>68.650</td>\n",
              "      <td>70.505</td>\n",
              "      <td>67.873</td>\n",
              "      <td>62.565</td>\n",
              "      <td>63.358</td>\n",
              "      <td>66.079</td>\n",
              "      <td>70.258</td>\n",
              "      <td>67.340</td>\n",
              "      <td>64.935</td>\n",
              "      <td>64.655</td>\n",
              "      <td>67.189</td>\n",
              "      <td>67.644</td>\n",
              "      <td>66.007</td>\n",
              "      <td>65.646</td>\n",
              "      <td>70.755</td>\n",
              "      <td>70.922</td>\n",
              "      <td>67.492</td>\n",
              "      <td>65.717</td>\n",
              "      <td>66.890</td>\n",
              "      <td>68.027</td>\n",
              "      <td>66.298</td>\n",
              "      <td>65.359</td>\n",
              "      <td>65.717</td>\n",
              "      <td>73.171</td>\n",
              "      <td>73.260</td>\n",
              "      <td>71.429</td>\n",
              "      <td>70.755</td>\n",
              "      <td>71.770</td>\n",
              "      <td>71.006</td>\n",
              "      <td>65.076</td>\n",
              "      <td>66.007</td>\n",
              "      <td>70.340</td>\n",
              "      <td>72.202</td>\n",
              "      <td>72.551</td>\n",
              "      <td>71.344</td>\n",
              "      <td>73.983</td>\n",
              "      <td>71.259</td>\n",
              "      <td>66.298</td>\n",
              "      <td>8</td>\n",
              "    </tr>\n",
              "    <tr>\n",
              "      <th>2</th>\n",
              "      <td>80.214</td>\n",
              "      <td>81.411</td>\n",
              "      <td>82.531</td>\n",
              "      <td>81.522</td>\n",
              "      <td>81.411</td>\n",
              "      <td>79.787</td>\n",
              "      <td>82.079</td>\n",
              "      <td>81.744</td>\n",
              "      <td>80.645</td>\n",
              "      <td>80.863</td>\n",
              "      <td>82.192</td>\n",
              "      <td>82.531</td>\n",
              "      <td>80.645</td>\n",
              "      <td>80.537</td>\n",
              "      <td>82.418</td>\n",
              "      <td>81.081</td>\n",
              "      <td>79.576</td>\n",
              "      <td>81.744</td>\n",
              "      <td>81.855</td>\n",
              "      <td>81.633</td>\n",
              "      <td>79.787</td>\n",
              "      <td>81.967</td>\n",
              "      <td>83.102</td>\n",
              "      <td>79.893</td>\n",
              "      <td>78.227</td>\n",
              "      <td>80.537</td>\n",
              "      <td>79.893</td>\n",
              "      <td>80.107</td>\n",
              "      <td>81.633</td>\n",
              "      <td>80.321</td>\n",
              "      <td>81.522</td>\n",
              "      <td>82.988</td>\n",
              "      <td>78.947</td>\n",
              "      <td>80.107</td>\n",
              "      <td>80.972</td>\n",
              "      <td>79.681</td>\n",
              "      <td>79.893</td>\n",
              "      <td>81.744</td>\n",
              "      <td>81.191</td>\n",
              "      <td>80.863</td>\n",
              "      <td>...</td>\n",
              "      <td>78.947</td>\n",
              "      <td>80.537</td>\n",
              "      <td>80.214</td>\n",
              "      <td>79.470</td>\n",
              "      <td>81.081</td>\n",
              "      <td>83.218</td>\n",
              "      <td>77.922</td>\n",
              "      <td>80.214</td>\n",
              "      <td>79.787</td>\n",
              "      <td>78.844</td>\n",
              "      <td>78.844</td>\n",
              "      <td>81.081</td>\n",
              "      <td>80.214</td>\n",
              "      <td>79.365</td>\n",
              "      <td>83.333</td>\n",
              "      <td>81.633</td>\n",
              "      <td>79.681</td>\n",
              "      <td>80.000</td>\n",
              "      <td>78.329</td>\n",
              "      <td>77.922</td>\n",
              "      <td>80.863</td>\n",
              "      <td>79.787</td>\n",
              "      <td>79.260</td>\n",
              "      <td>80.972</td>\n",
              "      <td>79.787</td>\n",
              "      <td>79.787</td>\n",
              "      <td>81.855</td>\n",
              "      <td>78.947</td>\n",
              "      <td>80.214</td>\n",
              "      <td>78.947</td>\n",
              "      <td>78.740</td>\n",
              "      <td>80.754</td>\n",
              "      <td>79.681</td>\n",
              "      <td>80.000</td>\n",
              "      <td>81.522</td>\n",
              "      <td>80.645</td>\n",
              "      <td>79.681</td>\n",
              "      <td>81.855</td>\n",
              "      <td>81.081</td>\n",
              "      <td>0</td>\n",
              "    </tr>\n",
              "    <tr>\n",
              "      <th>3</th>\n",
              "      <td>81.633</td>\n",
              "      <td>82.418</td>\n",
              "      <td>62.176</td>\n",
              "      <td>106.007</td>\n",
              "      <td>80.537</td>\n",
              "      <td>64.171</td>\n",
              "      <td>82.873</td>\n",
              "      <td>79.156</td>\n",
              "      <td>77.821</td>\n",
              "      <td>96.463</td>\n",
              "      <td>118.812</td>\n",
              "      <td>67.039</td>\n",
              "      <td>94.937</td>\n",
              "      <td>61.350</td>\n",
              "      <td>102.041</td>\n",
              "      <td>122.449</td>\n",
              "      <td>95.087</td>\n",
              "      <td>60.729</td>\n",
              "      <td>78.844</td>\n",
              "      <td>85.349</td>\n",
              "      <td>80.429</td>\n",
              "      <td>81.967</td>\n",
              "      <td>100.000</td>\n",
              "      <td>105.263</td>\n",
              "      <td>92.166</td>\n",
              "      <td>65.217</td>\n",
              "      <td>91.047</td>\n",
              "      <td>73.439</td>\n",
              "      <td>81.191</td>\n",
              "      <td>81.301</td>\n",
              "      <td>83.916</td>\n",
              "      <td>82.192</td>\n",
              "      <td>78.125</td>\n",
              "      <td>73.892</td>\n",
              "      <td>79.156</td>\n",
              "      <td>77.922</td>\n",
              "      <td>86.207</td>\n",
              "      <td>81.744</td>\n",
              "      <td>81.855</td>\n",
              "      <td>84.151</td>\n",
              "      <td>...</td>\n",
              "      <td>78.534</td>\n",
              "      <td>80.537</td>\n",
              "      <td>79.365</td>\n",
              "      <td>78.637</td>\n",
              "      <td>81.411</td>\n",
              "      <td>80.972</td>\n",
              "      <td>77.519</td>\n",
              "      <td>80.972</td>\n",
              "      <td>83.333</td>\n",
              "      <td>82.873</td>\n",
              "      <td>81.633</td>\n",
              "      <td>81.301</td>\n",
              "      <td>81.191</td>\n",
              "      <td>77.821</td>\n",
              "      <td>76.142</td>\n",
              "      <td>83.218</td>\n",
              "      <td>83.916</td>\n",
              "      <td>84.270</td>\n",
              "      <td>83.218</td>\n",
              "      <td>83.682</td>\n",
              "      <td>79.893</td>\n",
              "      <td>73.260</td>\n",
              "      <td>77.620</td>\n",
              "      <td>78.740</td>\n",
              "      <td>79.156</td>\n",
              "      <td>80.972</td>\n",
              "      <td>84.626</td>\n",
              "      <td>83.565</td>\n",
              "      <td>79.893</td>\n",
              "      <td>78.023</td>\n",
              "      <td>82.873</td>\n",
              "      <td>81.855</td>\n",
              "      <td>79.681</td>\n",
              "      <td>82.079</td>\n",
              "      <td>84.034</td>\n",
              "      <td>83.565</td>\n",
              "      <td>82.759</td>\n",
              "      <td>85.227</td>\n",
              "      <td>82.873</td>\n",
              "      <td>8</td>\n",
              "    </tr>\n",
              "    <tr>\n",
              "      <th>4</th>\n",
              "      <td>160.428</td>\n",
              "      <td>162.162</td>\n",
              "      <td>162.602</td>\n",
              "      <td>160.428</td>\n",
              "      <td>161.290</td>\n",
              "      <td>158.730</td>\n",
              "      <td>158.730</td>\n",
              "      <td>160.858</td>\n",
              "      <td>161.290</td>\n",
              "      <td>160.858</td>\n",
              "      <td>160.428</td>\n",
              "      <td>161.290</td>\n",
              "      <td>158.730</td>\n",
              "      <td>157.480</td>\n",
              "      <td>161.290</td>\n",
              "      <td>160.858</td>\n",
              "      <td>159.574</td>\n",
              "      <td>158.311</td>\n",
              "      <td>160.428</td>\n",
              "      <td>160.858</td>\n",
              "      <td>161.725</td>\n",
              "      <td>156.658</td>\n",
              "      <td>156.250</td>\n",
              "      <td>157.068</td>\n",
              "      <td>158.311</td>\n",
              "      <td>158.311</td>\n",
              "      <td>155.844</td>\n",
              "      <td>155.844</td>\n",
              "      <td>155.440</td>\n",
              "      <td>91.884</td>\n",
              "      <td>151.899</td>\n",
              "      <td>158.730</td>\n",
              "      <td>152.672</td>\n",
              "      <td>149.254</td>\n",
              "      <td>153.453</td>\n",
              "      <td>150.754</td>\n",
              "      <td>148.515</td>\n",
              "      <td>157.480</td>\n",
              "      <td>156.250</td>\n",
              "      <td>85.592</td>\n",
              "      <td>...</td>\n",
              "      <td>158.311</td>\n",
              "      <td>159.151</td>\n",
              "      <td>160.000</td>\n",
              "      <td>160.858</td>\n",
              "      <td>160.858</td>\n",
              "      <td>160.428</td>\n",
              "      <td>157.480</td>\n",
              "      <td>96.000</td>\n",
              "      <td>84.746</td>\n",
              "      <td>81.191</td>\n",
              "      <td>80.645</td>\n",
              "      <td>80.863</td>\n",
              "      <td>80.107</td>\n",
              "      <td>79.576</td>\n",
              "      <td>78.844</td>\n",
              "      <td>79.787</td>\n",
              "      <td>78.431</td>\n",
              "      <td>136.986</td>\n",
              "      <td>136.054</td>\n",
              "      <td>83.682</td>\n",
              "      <td>134.529</td>\n",
              "      <td>134.228</td>\n",
              "      <td>83.102</td>\n",
              "      <td>126.582</td>\n",
              "      <td>86.580</td>\n",
              "      <td>131.868</td>\n",
              "      <td>85.349</td>\n",
              "      <td>77.320</td>\n",
              "      <td>77.419</td>\n",
              "      <td>78.329</td>\n",
              "      <td>78.431</td>\n",
              "      <td>78.534</td>\n",
              "      <td>86.455</td>\n",
              "      <td>77.519</td>\n",
              "      <td>85.227</td>\n",
              "      <td>79.365</td>\n",
              "      <td>79.787</td>\n",
              "      <td>78.125</td>\n",
              "      <td>82.192</td>\n",
              "      <td>0</td>\n",
              "    </tr>\n",
              "  </tbody>\n",
              "</table>\n",
              "<p>5 rows × 102 columns</p>\n",
              "</div>"
            ],
            "text/plain": [
              "       0        1        2        3    ...      98       99       100  101\n",
              "0  105.820  106.762  106.007  106.007  ...  104.895  105.079  105.448    0\n",
              "1   65.005   65.076   63.694   67.039  ...   73.983   71.259   66.298    8\n",
              "2   80.214   81.411   82.531   81.522  ...   79.681   81.855   81.081    0\n",
              "3   81.633   82.418   62.176  106.007  ...   82.759   85.227   82.873    8\n",
              "4  160.428  162.162  162.602  160.428  ...   79.787   78.125   82.192    0\n",
              "\n",
              "[5 rows x 102 columns]"
            ]
          },
          "metadata": {
            "tags": []
          },
          "execution_count": 3
        }
      ]
    },
    {
      "cell_type": "code",
      "metadata": {
        "trusted": true,
        "_uuid": "5281cb19f54f3bd379f875c24ae52b3b15fcafaf",
        "id": "a4DIT7vNPIt1",
        "colab_type": "code",
        "outputId": "26ef724f-2678-4f32-aca9-584248e1ed68",
        "colab": {
          "base_uri": "https://localhost:8080/",
          "height": 102
        }
      },
      "source": [
        "df.info()"
      ],
      "execution_count": 4,
      "outputs": [
        {
          "output_type": "stream",
          "text": [
            "<class 'pandas.core.frame.DataFrame'>\n",
            "RangeIndex: 350 entries, 0 to 349\n",
            "Columns: 102 entries, 0 to 101\n",
            "dtypes: float64(101), int64(1)\n",
            "memory usage: 279.0 KB\n"
          ],
          "name": "stdout"
        }
      ]
    },
    {
      "cell_type": "code",
      "metadata": {
        "trusted": true,
        "_uuid": "0fac0fb658ea34b48055838b4ad85078e883360d",
        "id": "EB6HussvPIt5",
        "colab_type": "code",
        "outputId": "36c823cb-a3d0-4844-b30e-a0696921a3ec",
        "colab": {
          "base_uri": "https://localhost:8080/",
          "height": 153
        }
      },
      "source": [
        "df[101].value_counts()"
      ],
      "execution_count": 5,
      "outputs": [
        {
          "output_type": "execute_result",
          "data": {
            "text/plain": [
              "0    230\n",
              "8     83\n",
              "2     15\n",
              "1     14\n",
              "6      4\n",
              "3      3\n",
              "5      1\n",
              "Name: 101, dtype: int64"
            ]
          },
          "metadata": {
            "tags": []
          },
          "execution_count": 5
        }
      ]
    },
    {
      "cell_type": "code",
      "metadata": {
        "trusted": true,
        "_uuid": "147b7604bd8a389d7f6aa111f38ae308af7c4eb7",
        "id": "Z-5hcbF_PIt8",
        "colab_type": "code",
        "colab": {}
      },
      "source": [
        "M = df.values\n",
        "X = M[:, :-1]\n",
        "y = M[:, -1].astype(int)"
      ],
      "execution_count": 0,
      "outputs": []
    },
    {
      "cell_type": "code",
      "metadata": {
        "id": "n82ksHULfRWA",
        "colab_type": "code",
        "outputId": "3dee9ab3-65b3-4ed9-a1e9-844fef0ef5c6",
        "colab": {
          "base_uri": "https://localhost:8080/",
          "height": 289
        }
      },
      "source": [
        "y"
      ],
      "execution_count": 7,
      "outputs": [
        {
          "output_type": "execute_result",
          "data": {
            "text/plain": [
              "array([0, 8, 0, 8, 0, 8, 0, 8, 0, 1, 0, 0, 8, 0, 8, 2, 8, 8, 8, 8, 1, 8,\n",
              "       8, 1, 8, 2, 8, 2, 2, 2, 0, 2, 0, 2, 0, 2, 5, 8, 2, 0, 0, 8, 8, 2,\n",
              "       2, 8, 8, 1, 8, 8, 0, 2, 0, 3, 1, 2, 8, 2, 8, 8, 8, 1, 8, 0, 8, 8,\n",
              "       8, 8, 8, 8, 8, 8, 8, 8, 8, 8, 8, 8, 1, 1, 8, 8, 8, 1, 8, 1, 8, 3,\n",
              "       8, 0, 8, 8, 8, 0, 8, 1, 6, 8, 8, 8, 8, 0, 6, 8, 0, 8, 6, 0, 6, 0,\n",
              "       0, 8, 0, 8, 8, 8, 8, 3, 8, 0, 8, 0, 8, 1, 8, 1, 8, 0, 8, 8, 0, 8,\n",
              "       0, 0, 0, 8, 0, 0, 0, 0, 0, 0, 0, 0, 0, 0, 0, 0, 0, 0, 0, 0, 0, 0,\n",
              "       0, 0, 0, 0, 0, 0, 0, 0, 0, 0, 0, 0, 0, 0, 0, 0, 0, 0, 0, 0, 0, 0,\n",
              "       0, 0, 0, 0, 0, 0, 0, 0, 0, 0, 0, 0, 0, 0, 0, 0, 0, 0, 0, 0, 0, 0,\n",
              "       0, 0, 0, 0, 0, 0, 0, 0, 0, 0, 0, 0, 0, 0, 0, 0, 0, 0, 0, 0, 0, 0,\n",
              "       0, 0, 0, 0, 0, 0, 0, 0, 0, 0, 0, 0, 0, 0, 0, 0, 0, 0, 0, 0, 0, 0,\n",
              "       0, 0, 0, 0, 0, 0, 0, 0, 0, 0, 0, 0, 0, 0, 0, 0, 0, 0, 0, 0, 0, 0,\n",
              "       0, 0, 0, 0, 0, 0, 0, 0, 0, 0, 0, 0, 0, 0, 0, 0, 0, 0, 0, 0, 0, 0,\n",
              "       0, 0, 0, 0, 0, 0, 0, 0, 0, 0, 0, 0, 0, 0, 0, 0, 0, 0, 0, 0, 0, 0,\n",
              "       0, 0, 0, 0, 0, 0, 0, 0, 0, 0, 0, 0, 0, 0, 0, 0, 0, 0, 0, 0, 8, 0,\n",
              "       1, 0, 0, 0, 0, 8, 8, 8, 8, 8, 8, 8, 8, 8, 8, 0, 8, 0, 2, 8])"
            ]
          },
          "metadata": {
            "tags": []
          },
          "execution_count": 7
        }
      ]
    },
    {
      "cell_type": "code",
      "metadata": {
        "trusted": true,
        "_uuid": "504d95532114efa4cc581d80bf02159c3ce519c6",
        "id": "HBPmVCNKPIuA",
        "colab_type": "code",
        "colab": {}
      },
      "source": [
        "# del df\n",
        "# del df2\n",
        "# del M"
      ],
      "execution_count": 0,
      "outputs": []
    },
    {
      "cell_type": "markdown",
      "metadata": {
        "_uuid": "425c4b7abe39a14c6f81f8a71094cc1024276935",
        "id": "gAbFl72OPIuD",
        "colab_type": "text"
      },
      "source": [
        "# Visual Input"
      ]
    },
    {
      "cell_type": "code",
      "metadata": {
        "trusted": true,
        "_uuid": "bcd502ecd1eb95bbf8af983396d3d0c3fb50ce4b",
        "id": "3daQE28mPIuF",
        "colab_type": "code",
        "colab": {
          "base_uri": "https://localhost:8080/",
          "height": 102
        },
        "outputId": "d90f5267-c0c3-4c27-c8df-ac674df92fd9"
      },
      "source": [
        "C0 = np.argwhere(y == 0).flatten()\n",
        "C8 = np.argwhere(y == 8).flatten()\n",
        "\n",
        "print(C8)"
      ],
      "execution_count": 9,
      "outputs": [
        {
          "output_type": "stream",
          "text": [
            "[  1   3   5   7  12  14  16  17  18  19  21  22  24  26  37  41  42  45\n",
            "  46  48  49  56  58  59  60  62  64  65  66  67  68  69  70  71  72  73\n",
            "  74  75  76  77  80  81  82  84  86  88  90  91  92  94  97  98  99 100\n",
            " 103 105 111 113 114 115 116 118 120 122 124 126 128 129 131 135 328 335\n",
            " 336 337 338 339 340 341 342 343 344 346 349]\n"
          ],
          "name": "stdout"
        }
      ]
    },
    {
      "cell_type": "code",
      "metadata": {
        "id": "9rdjYeUkzUzw",
        "colab_type": "code",
        "colab": {
          "base_uri": "https://localhost:8080/",
          "height": 136
        },
        "outputId": "0c7b3f89-0ae1-4117-d94a-95afb3bd661a"
      },
      "source": [
        "print(X[C0,:])"
      ],
      "execution_count": 10,
      "outputs": [
        {
          "output_type": "stream",
          "text": [
            "[[105.82  106.762 106.007 ... 104.895 105.079 105.448]\n",
            " [ 80.214  81.411  82.531 ...  79.681  81.855  81.081]\n",
            " [160.428 162.162 162.602 ...  79.787  78.125  82.192]\n",
            " ...\n",
            " [ 70.588  71.344  71.006 ...  71.77   70.838  70.838]\n",
            " [ 70.093  69.606  69.045 ...  65.862  63.694  62.959]\n",
            " [ 60.241  60.241  59.88  ...  63.559  63.694  61.1  ]]\n"
          ],
          "name": "stdout"
        }
      ]
    },
    {
      "cell_type": "code",
      "metadata": {
        "trusted": true,
        "_uuid": "85209065f110cea77f4d65053d1164e9ee816049",
        "id": "FqYklUdTPIuI",
        "colab_type": "code",
        "outputId": "76c4ecd6-ed1e-49fa-818c-aa1a74d86ce7",
        "colab": {
          "base_uri": "https://localhost:8080/",
          "height": 217
        }
      },
      "source": [
        "x = np.arange(0, 101)\n",
        "X[C8, :][0].shape\n",
        "plt.figure(figsize=(20,2))\n",
        "plt.plot(x, X[C0, :][0], label=\"Cat. N\")\n",
        "# plt.plot(x, X[C1, :][0], label=\"Cat. S\")\n",
        "# plt.plot(x, X[C2, :][0], label=\"Cat. V\")\n",
        "# plt.plot(x, X[C3, :][0], label=\"Cat. F\")\n",
        "# plt.plot(x, X[C4, :][0], label=\"Cat. Q\")\n",
        "plt.legend()\n",
        "plt.title(\"1-beat Heart Rate for category Normal\", fontsize=20)\n",
        "plt.ylabel(\"Amplitude\", fontsize=15)\n",
        "plt.xlabel(\"Time (s)\", fontsize=15)\n",
        "plt.show()"
      ],
      "execution_count": 11,
      "outputs": [
        {
          "output_type": "display_data",
          "data": {
            "image/png": "[encoded data removed]",
            "text/plain": [
              "<Figure size 1440x144 with 1 Axes>"
            ]
          },
          "metadata": {
            "tags": []
          }
        }
      ]
    },
    {
      "cell_type": "code",
      "metadata": {
        "id": "-en-x08Aymk2",
        "colab_type": "code",
        "colab": {
          "base_uri": "https://localhost:8080/",
          "height": 136
        },
        "outputId": "5e62afb5-07ea-4481-f35c-f4dab1a166f2"
      },
      "source": [
        "print(X)"
      ],
      "execution_count": 12,
      "outputs": [
        {
          "output_type": "stream",
          "text": [
            "[[105.82  106.762 106.007 ... 104.895 105.079 105.448]\n",
            " [ 65.005  65.076  63.694 ...  73.983  71.259  66.298]\n",
            " [ 80.214  81.411  82.531 ...  79.681  81.855  81.081]\n",
            " ...\n",
            " [ 60.241  60.241  59.88  ...  63.559  63.694  61.1  ]\n",
            " [ 70.505  70.838  69.686 ...  68.182  66.593  65.717]\n",
            " [ 66.372  72.816  77.32  ...  61.538  62.762  70.755]]\n"
          ],
          "name": "stdout"
        }
      ]
    },
    {
      "cell_type": "markdown",
      "metadata": {
        "_uuid": "c42605d020fd51885437f4af3cf10cebbeafc9bb",
        "id": "foJsyFaTPIua",
        "colab_type": "text"
      },
      "source": [
        "# Split"
      ]
    },
    {
      "cell_type": "code",
      "metadata": {
        "id": "5UJjD5as_YZa",
        "colab_type": "code",
        "colab": {}
      },
      "source": [
        "trainMCI = np.random.choice(C0, 80)\n",
        "trainNorm = np.random.choice(C8, 80)"
      ],
      "execution_count": 0,
      "outputs": []
    },
    {
      "cell_type": "code",
      "metadata": {
        "id": "gkx6UgznBjiC",
        "colab_type": "code",
        "colab": {
          "base_uri": "https://localhost:8080/",
          "height": 136
        },
        "outputId": "f14b95cd-5683-4b27-f2f9-46b8fe94b9c6"
      },
      "source": [
        "trainNorm"
      ],
      "execution_count": 14,
      "outputs": [
        {
          "output_type": "execute_result",
          "data": {
            "text/plain": [
              "array([  7,   3,  14, 100,   7, 100, 120,  45,  84,  71, 337, 118,  26,\n",
              "        91,  37, 335, 341, 118,  77, 343, 346,  99,  59,  62, 115,  80,\n",
              "        66,  37,  86, 124, 328,  18,   1,  17, 120,  21, 344,  17,  72,\n",
              "        72,  70,  12,  80,  65,  16, 336, 335,  22,  71,  70,  91,  58,\n",
              "       118,  74,  84,  72, 124,  90, 341,   5,   1,  12,  26,  64,  18,\n",
              "       342,  37,  81, 340,  97, 120,  98,   7,  58,  37,  82,  66,  73,\n",
              "        24,  69])"
            ]
          },
          "metadata": {
            "tags": []
          },
          "execution_count": 14
        }
      ]
    },
    {
      "cell_type": "code",
      "metadata": {
        "trusted": true,
        "_uuid": "c136b567ed0cf450ed0476464c3b59d1ff1bb032",
        "id": "79ReBm0DPIub",
        "colab_type": "code",
        "outputId": "ee353c46-34ee-4aa9-c9f8-c0268ea390b1",
        "colab": {
          "base_uri": "https://localhost:8080/",
          "height": 51
        }
      },
      "source": [
        "testMCI = np.random.choice(C0, 20)\n",
        "testNorm = np.random.choice(C8, 20)\n",
        "testNorm"
      ],
      "execution_count": 15,
      "outputs": [
        {
          "output_type": "execute_result",
          "data": {
            "text/plain": [
              "array([118,   1,  64, 118, 340,   5, 135, 335,  64,  18, 118,  74,  97,\n",
              "        84,  59, 342, 114,  69,  98, 118])"
            ]
          },
          "metadata": {
            "tags": []
          },
          "execution_count": 15
        }
      ]
    },
    {
      "cell_type": "code",
      "metadata": {
        "id": "0QvECgau0Lep",
        "colab_type": "code",
        "colab": {
          "base_uri": "https://localhost:8080/",
          "height": 34
        },
        "outputId": "9b6c8307-937f-4f48-f4b0-fec05c028439"
      },
      "source": [
        "np.vstack([X[trainMCI], X[trainNorm]]).shape"
      ],
      "execution_count": 16,
      "outputs": [
        {
          "output_type": "execute_result",
          "data": {
            "text/plain": [
              "(160, 101)"
            ]
          },
          "metadata": {
            "tags": []
          },
          "execution_count": 16
        }
      ]
    },
    {
      "cell_type": "code",
      "metadata": {
        "id": "SogjGTNmCOan",
        "colab_type": "code",
        "colab": {
          "base_uri": "https://localhost:8080/",
          "height": 34
        },
        "outputId": "850101c0-df3a-4edf-d093-3b3539086779"
      },
      "source": [
        "np.hstack([y[trainMCI], y[trainNorm]]).shape"
      ],
      "execution_count": 17,
      "outputs": [
        {
          "output_type": "execute_result",
          "data": {
            "text/plain": [
              "(160,)"
            ]
          },
          "metadata": {
            "tags": []
          },
          "execution_count": 17
        }
      ]
    },
    {
      "cell_type": "code",
      "metadata": {
        "id": "1K5zKxVG0dUv",
        "colab_type": "code",
        "colab": {}
      },
      "source": [
        "# np.hstack([y[subC0], y[subC1]])"
      ],
      "execution_count": 0,
      "outputs": []
    },
    {
      "cell_type": "code",
      "metadata": {
        "trusted": true,
        "_uuid": "52573d0c3a715cd693e682227d01f5a73549e421",
        "id": "u_VqrWtBPIuh",
        "colab_type": "code",
        "outputId": "a15dc34a-6e2f-47a2-d1ab-8b8080150c81",
        "colab": {
          "base_uri": "https://localhost:8080/",
          "height": 85
        }
      },
      "source": [
        "X_test = np.vstack([X[testMCI], X[testNorm]])\n",
        "y_test = np.hstack([y[testMCI], y[testNorm]])\n",
        "\n",
        "X_train = np.vstack([X[trainMCI], X[trainNorm]])\n",
        "y_train = np.hstack([y[trainMCI], y[trainNorm]])\n",
        "\n",
        "X_train, y_train = shuffle(X_train, y_train, random_state=0)\n",
        "X_test, y_test = shuffle(X_test, y_test, random_state=0)\n",
        "\n",
        "# del X\n",
        "# del y\n",
        "\n",
        "print(X_test.shape)\n",
        "print(X_train.shape)\n",
        "print(y_test.shape)\n",
        "print(y_train.shape)\n",
        "# print(X.shape)"
      ],
      "execution_count": 19,
      "outputs": [
        {
          "output_type": "stream",
          "text": [
            "(40, 101)\n",
            "(160, 101)\n",
            "(40,)\n",
            "(160,)\n"
          ],
          "name": "stdout"
        }
      ]
    },
    {
      "cell_type": "code",
      "metadata": {
        "id": "VKYLXEtUDGNK",
        "colab_type": "code",
        "colab": {
          "base_uri": "https://localhost:8080/",
          "height": 51
        },
        "outputId": "f214f994-2791-4cf6-bebd-10d7f800e4eb"
      },
      "source": [
        "y_test"
      ],
      "execution_count": 20,
      "outputs": [
        {
          "output_type": "execute_result",
          "data": {
            "text/plain": [
              "array([8, 8, 8, 0, 0, 0, 8, 0, 0, 8, 8, 8, 8, 0, 8, 8, 8, 0, 8, 0, 0, 0,\n",
              "       0, 0, 8, 0, 8, 0, 8, 0, 8, 8, 0, 8, 8, 0, 0, 8, 0, 0])"
            ]
          },
          "metadata": {
            "tags": []
          },
          "execution_count": 20
        }
      ]
    },
    {
      "cell_type": "code",
      "metadata": {
        "id": "Zx0UcPr11Ib7",
        "colab_type": "code",
        "colab": {}
      },
      "source": [
        "y_test = np.where(y_test > 1, 1, 0)\n",
        "y_train = np.where(y_train > 1, 1, 0)"
      ],
      "execution_count": 0,
      "outputs": []
    },
    {
      "cell_type": "code",
      "metadata": {
        "trusted": true,
        "_uuid": "7ae5108c9741b85f0f599cce51daf99df4733ed1",
        "id": "-yWqrtz6PIuk",
        "colab_type": "code",
        "colab": {}
      },
      "source": [
        "X_train = np.expand_dims(X_train, 2)\n",
        "X_test = np.expand_dims(X_test, 2)"
      ],
      "execution_count": 0,
      "outputs": []
    },
    {
      "cell_type": "code",
      "metadata": {
        "trusted": true,
        "_uuid": "cbd350e57b2a44b4bf6a79f02c32dabb803e4855",
        "id": "nswRqohNPIuo",
        "colab_type": "code",
        "outputId": "1a2823c2-f0ab-4f0a-d80c-d027d15086d7",
        "colab": {
          "base_uri": "https://localhost:8080/",
          "height": 85
        }
      },
      "source": [
        "print(\"X_train\", X_train.shape)\n",
        "print(\"y_train\", y_train.shape)\n",
        "print(\"X_test\", X_test.shape)\n",
        "print(\"y_test\", y_test.shape)"
      ],
      "execution_count": 23,
      "outputs": [
        {
          "output_type": "stream",
          "text": [
            "X_train (160, 101, 1)\n",
            "y_train (160,)\n",
            "X_test (40, 101, 1)\n",
            "y_test (40,)\n"
          ],
          "name": "stdout"
        }
      ]
    },
    {
      "cell_type": "code",
      "metadata": {
        "trusted": true,
        "_uuid": "5ddf1e7b397de3c413fc991945d2d7f09df67da1",
        "id": "CmHmd3RmPIur",
        "colab_type": "code",
        "colab": {}
      },
      "source": [
        "ohe = OneHotEncoder()\n",
        "y_train = ohe.fit_transform(y_train.reshape(-1,1))\n",
        "y_test = ohe.transform(y_test.reshape(-1,1))"
      ],
      "execution_count": 0,
      "outputs": []
    },
    {
      "cell_type": "code",
      "metadata": {
        "trusted": true,
        "_uuid": "16c106c2702045790367fc49d7223560fc613d75",
        "id": "6jil13ZiPIuv",
        "colab_type": "code",
        "outputId": "85e9ef94-ad0e-4f1a-d701-cbaeea4f8ede",
        "colab": {
          "base_uri": "https://localhost:8080/",
          "height": 85
        }
      },
      "source": [
        "print(\"X_train\", X_train.shape)\n",
        "print(\"y_train\", y_train.shape)\n",
        "print(\"X_test\", X_test.shape)\n",
        "print(\"y_test\", y_test.shape)"
      ],
      "execution_count": 25,
      "outputs": [
        {
          "output_type": "stream",
          "text": [
            "X_train (160, 101, 1)\n",
            "y_train (160, 2)\n",
            "X_test (40, 101, 1)\n",
            "y_test (40, 2)\n"
          ],
          "name": "stdout"
        }
      ]
    },
    {
      "cell_type": "markdown",
      "metadata": {
        "_uuid": "c4de23b85abe34a726eab268171da0e827bafa35",
        "id": "erKYAY4bPIuy",
        "colab_type": "text"
      },
      "source": [
        "# Model\n",
        "\n",
        "Now let's re-create the model from the ArXiv Document"
      ]
    },
    {
      "cell_type": "code",
      "metadata": {
        "trusted": true,
        "_uuid": "fb0dc9775ddfa761c0ad948d59020fcbd2681c57",
        "id": "DrU2UcHvPIu0",
        "colab_type": "code",
        "colab": {}
      },
      "source": [
        "n_obs, feature, depth = X_train.shape\n",
        "batch_size = 80"
      ],
      "execution_count": 0,
      "outputs": []
    },
    {
      "cell_type": "code",
      "metadata": {
        "trusted": true,
        "_uuid": "e70fab0b07290e042ba9cd7c6cba37462a457b03",
        "id": "W8xgao8gPIu6",
        "colab_type": "code",
        "outputId": "8ef29772-3b96-488b-9679-f475220218b0",
        "colab": {
          "base_uri": "https://localhost:8080/",
          "height": 1000
        }
      },
      "source": [
        "K.clear_session()\n",
        "\n",
        "inp = Input(shape=(feature, depth))\n",
        "C = Conv1D(filters=32, kernel_size=5, strides=1)(inp)\n",
        "\n",
        "C11 = Conv1D(filters=32, kernel_size=5, strides=1, padding='same')(C)\n",
        "A11 = Activation(\"relu\")(C11)\n",
        "C12 = Conv1D(filters=32, kernel_size=5, strides=1, padding='same')(A11)\n",
        "S11 = Add()([C12, C])\n",
        "A12 = Activation(\"relu\")(S11)\n",
        "M11 = MaxPooling1D(pool_size=5, strides=2)(A12)\n",
        "\n",
        "\n",
        "C21 = Conv1D(filters=32, kernel_size=5, strides=1, padding='same')(M11)\n",
        "A21 = Activation(\"relu\")(C21)\n",
        "C22 = Conv1D(filters=32, kernel_size=5, strides=1, padding='same')(A21)\n",
        "S21 = Add()([C22, M11])\n",
        "A22 = Activation(\"relu\")(S11)\n",
        "M21 = MaxPooling1D(pool_size=5, strides=2)(A22)\n",
        "\n",
        "\n",
        "C31 = Conv1D(filters=32, kernel_size=5, strides=1, padding='same')(M21)\n",
        "A31 = Activation(\"relu\")(C31)\n",
        "C32 = Conv1D(filters=32, kernel_size=5, strides=1, padding='same')(A31)\n",
        "S31 = Add()([C32, M21])\n",
        "A32 = Activation(\"relu\")(S31)\n",
        "M31 = MaxPooling1D(pool_size=5, strides=2)(A32)\n",
        "\n",
        "\n",
        "C41 = Conv1D(filters=32, kernel_size=5, strides=1, padding='same')(M31)\n",
        "A41 = Activation(\"relu\")(C41)\n",
        "C42 = Conv1D(filters=32, kernel_size=5, strides=1, padding='same')(A41)\n",
        "S41 = Add()([C42, M31])\n",
        "A42 = Activation(\"relu\")(S41)\n",
        "M41 = MaxPooling1D(pool_size=5, strides=2)(A42)\n",
        "\n",
        "\n",
        "C51 = Conv1D(filters=32, kernel_size=5, strides=1, padding='same')(M41)\n",
        "A51 = Activation(\"relu\")(C51)\n",
        "C52 = Conv1D(filters=32, kernel_size=5, strides=1, padding='same')(A51)\n",
        "S51 = Add()([C52, M41])\n",
        "A52 = Activation(\"relu\")(S51)\n",
        "M51 = MaxPooling1D(pool_size=5, strides=2)(A52)\n",
        "\n",
        "F1 = Flatten()(M51)\n",
        "\n",
        "D1 = Dense(32)(F1)\n",
        "A6 = Activation(\"relu\")(D1)\n",
        "D2 = Dense(32)(A6)\n",
        "D3 = Dense(2)(D2)\n",
        "A7 = Softmax()(D3)\n",
        "\n",
        "model = Model(inputs=inp, outputs=A7)\n",
        "model.summary()"
      ],
      "execution_count": 27,
      "outputs": [
        {
          "output_type": "stream",
          "text": [
            "WARNING:tensorflow:From /usr/local/lib/python3.6/dist-packages/tensorflow_core/python/ops/resource_variable_ops.py:1630: calling BaseResourceVariable.__init__ (from tensorflow.python.ops.resource_variable_ops) with constraint is deprecated and will be removed in a future version.\n",
            "Instructions for updating:\n",
            "If using Keras pass *_constraint arguments to layers.\n",
            "WARNING:tensorflow:From /usr/local/lib/python3.6/dist-packages/keras/backend/tensorflow_backend.py:4070: The name tf.nn.max_pool is deprecated. Please use tf.nn.max_pool2d instead.\n",
            "\n",
            "Model: \"model_1\"\n",
            "__________________________________________________________________________________________________\n",
            "Layer (type)                    Output Shape         Param #     Connected to                     \n",
            "==================================================================================================\n",
            "input_1 (InputLayer)            (None, 101, 1)       0                                            \n",
            "__________________________________________________________________________________________________\n",
            "conv1d_1 (Conv1D)               (None, 97, 32)       192         input_1[0][0]                    \n",
            "__________________________________________________________________________________________________\n",
            "conv1d_2 (Conv1D)               (None, 97, 32)       5152        conv1d_1[0][0]                   \n",
            "__________________________________________________________________________________________________\n",
            "activation_1 (Activation)       (None, 97, 32)       0           conv1d_2[0][0]                   \n",
            "__________________________________________________________________________________________________\n",
            "conv1d_3 (Conv1D)               (None, 97, 32)       5152        activation_1[0][0]               \n",
            "__________________________________________________________________________________________________\n",
            "add_1 (Add)                     (None, 97, 32)       0           conv1d_3[0][0]                   \n",
            "                                                                 conv1d_1[0][0]                   \n",
            "__________________________________________________________________________________________________\n",
            "activation_4 (Activation)       (None, 97, 32)       0           add_1[0][0]                      \n",
            "__________________________________________________________________________________________________\n",
            "max_pooling1d_2 (MaxPooling1D)  (None, 47, 32)       0           activation_4[0][0]               \n",
            "__________________________________________________________________________________________________\n",
            "conv1d_6 (Conv1D)               (None, 47, 32)       5152        max_pooling1d_2[0][0]            \n",
            "__________________________________________________________________________________________________\n",
            "activation_5 (Activation)       (None, 47, 32)       0           conv1d_6[0][0]                   \n",
            "__________________________________________________________________________________________________\n",
            "conv1d_7 (Conv1D)               (None, 47, 32)       5152        activation_5[0][0]               \n",
            "__________________________________________________________________________________________________\n",
            "add_3 (Add)                     (None, 47, 32)       0           conv1d_7[0][0]                   \n",
            "                                                                 max_pooling1d_2[0][0]            \n",
            "__________________________________________________________________________________________________\n",
            "activation_6 (Activation)       (None, 47, 32)       0           add_3[0][0]                      \n",
            "__________________________________________________________________________________________________\n",
            "max_pooling1d_3 (MaxPooling1D)  (None, 22, 32)       0           activation_6[0][0]               \n",
            "__________________________________________________________________________________________________\n",
            "conv1d_8 (Conv1D)               (None, 22, 32)       5152        max_pooling1d_3[0][0]            \n",
            "__________________________________________________________________________________________________\n",
            "activation_7 (Activation)       (None, 22, 32)       0           conv1d_8[0][0]                   \n",
            "__________________________________________________________________________________________________\n",
            "conv1d_9 (Conv1D)               (None, 22, 32)       5152        activation_7[0][0]               \n",
            "__________________________________________________________________________________________________\n",
            "add_4 (Add)                     (None, 22, 32)       0           conv1d_9[0][0]                   \n",
            "                                                                 max_pooling1d_3[0][0]            \n",
            "__________________________________________________________________________________________________\n",
            "activation_8 (Activation)       (None, 22, 32)       0           add_4[0][0]                      \n",
            "__________________________________________________________________________________________________\n",
            "max_pooling1d_4 (MaxPooling1D)  (None, 9, 32)        0           activation_8[0][0]               \n",
            "__________________________________________________________________________________________________\n",
            "conv1d_10 (Conv1D)              (None, 9, 32)        5152        max_pooling1d_4[0][0]            \n",
            "__________________________________________________________________________________________________\n",
            "activation_9 (Activation)       (None, 9, 32)        0           conv1d_10[0][0]                  \n",
            "__________________________________________________________________________________________________\n",
            "conv1d_11 (Conv1D)              (None, 9, 32)        5152        activation_9[0][0]               \n",
            "__________________________________________________________________________________________________\n",
            "add_5 (Add)                     (None, 9, 32)        0           conv1d_11[0][0]                  \n",
            "                                                                 max_pooling1d_4[0][0]            \n",
            "__________________________________________________________________________________________________\n",
            "activation_10 (Activation)      (None, 9, 32)        0           add_5[0][0]                      \n",
            "__________________________________________________________________________________________________\n",
            "max_pooling1d_5 (MaxPooling1D)  (None, 3, 32)        0           activation_10[0][0]              \n",
            "__________________________________________________________________________________________________\n",
            "flatten_1 (Flatten)             (None, 96)           0           max_pooling1d_5[0][0]            \n",
            "__________________________________________________________________________________________________\n",
            "dense_1 (Dense)                 (None, 32)           3104        flatten_1[0][0]                  \n",
            "__________________________________________________________________________________________________\n",
            "activation_11 (Activation)      (None, 32)           0           dense_1[0][0]                    \n",
            "__________________________________________________________________________________________________\n",
            "dense_2 (Dense)                 (None, 32)           1056        activation_11[0][0]              \n",
            "__________________________________________________________________________________________________\n",
            "dense_3 (Dense)                 (None, 2)            66          dense_2[0][0]                    \n",
            "__________________________________________________________________________________________________\n",
            "softmax_1 (Softmax)             (None, 2)            0           dense_3[0][0]                    \n",
            "==================================================================================================\n",
            "Total params: 45,634\n",
            "Trainable params: 45,634\n",
            "Non-trainable params: 0\n",
            "__________________________________________________________________________________________________\n"
          ],
          "name": "stdout"
        }
      ]
    },
    {
      "cell_type": "code",
      "metadata": {
        "trusted": true,
        "_uuid": "fdc0d8aa8475330af8d8e652d0b9ce214da66956",
        "id": "lazwYvDcPIu_",
        "colab_type": "code",
        "colab": {}
      },
      "source": [
        "def exp_decay(epoch):\n",
        "    initial_lrate = 0.002\n",
        "    k = 0.75\n",
        "    t = n_obs//(batch_size)  # every epoch we do n_obs/batch_size iteration\n",
        "    lrate = initial_lrate * math.exp(-k*t)\n",
        "    return lrate\n",
        "\n",
        "lrate = LearningRateScheduler(exp_decay)"
      ],
      "execution_count": 0,
      "outputs": []
    },
    {
      "cell_type": "code",
      "metadata": {
        "trusted": true,
        "_uuid": "abcd2f0e8488c8f3b33cd6ed9ca7fd60fa44404b",
        "id": "Jom7PrMmPIvE",
        "colab_type": "code",
        "colab": {}
      },
      "source": [
        "adam = Adam(lr = 0.002, beta_1 = 0.9, beta_2 = 0.999)"
      ],
      "execution_count": 0,
      "outputs": []
    },
    {
      "cell_type": "code",
      "metadata": {
        "trusted": true,
        "_uuid": "812e637ae56f6a4be9c8e98d3b501cfb11ef78cb",
        "id": "Kwc24PDmPIvH",
        "colab_type": "code",
        "colab": {}
      },
      "source": [
        "model.compile(loss='categorical_crossentropy', optimizer=adam,  metrics=['accuracy'])"
      ],
      "execution_count": 0,
      "outputs": []
    },
    {
      "cell_type": "code",
      "metadata": {
        "trusted": true,
        "_uuid": "1e6ef643f6a55ab5b3c1b46126832c3ac45a6a2b",
        "id": "www7l_uDPIvL",
        "colab_type": "code",
        "outputId": "92e3a89a-5311-478d-cb69-de84ba785825",
        "colab": {
          "base_uri": "https://localhost:8080/",
          "height": 1000
        }
      },
      "source": [
        "# It is observed that sometimes the accuracy won't change for epochs. \n",
        "# This is likely to happen due to Adam optimizer found a local minima\n",
        "# Source : https://stackoverflow.com/questions/37213388/keras-accuracy-does-not-change/53397560#53397560\n",
        "history = model.fit(X_train, y_train, \n",
        "                    epochs=300, \n",
        "                    batch_size=batch_size, \n",
        "                    verbose=1, \n",
        "                    validation_data=(X_test, y_test), \n",
        "                    callbacks=[lrate])"
      ],
      "execution_count": 31,
      "outputs": [
        {
          "output_type": "stream",
          "text": [
            "WARNING:tensorflow:From /usr/local/lib/python3.6/dist-packages/keras/backend/tensorflow_backend.py:422: The name tf.global_variables is deprecated. Please use tf.compat.v1.global_variables instead.\n",
            "\n",
            "Train on 160 samples, validate on 40 samples\n",
            "Epoch 1/300\n",
            "160/160 [==============================] - 1s 4ms/step - loss: 16.3956 - accuracy: 0.5000 - val_loss: nan - val_accuracy: 0.5250\n",
            "Epoch 2/300\n",
            "160/160 [==============================] - 0s 745us/step - loss: 8.0236 - accuracy: 0.5063 - val_loss: nan - val_accuracy: 0.5250\n",
            "Epoch 3/300\n",
            "160/160 [==============================] - 0s 661us/step - loss: 3.2250 - accuracy: 0.5688 - val_loss: nan - val_accuracy: 0.5000\n",
            "Epoch 4/300\n",
            "160/160 [==============================] - 0s 661us/step - loss: 3.6954 - accuracy: 0.4875 - val_loss: nan - val_accuracy: 0.6000\n",
            "Epoch 5/300\n",
            "160/160 [==============================] - 0s 685us/step - loss: 1.8845 - accuracy: 0.5875 - val_loss: nan - val_accuracy: 0.5250\n",
            "Epoch 6/300\n",
            "160/160 [==============================] - 0s 695us/step - loss: 2.6400 - accuracy: 0.5125 - val_loss: nan - val_accuracy: 0.5750\n",
            "Epoch 7/300\n",
            "160/160 [==============================] - 0s 686us/step - loss: 1.6574 - accuracy: 0.5437 - val_loss: nan - val_accuracy: 0.4750\n",
            "Epoch 8/300\n",
            "160/160 [==============================] - 0s 721us/step - loss: 1.5365 - accuracy: 0.5562 - val_loss: nan - val_accuracy: 0.6000\n",
            "Epoch 9/300\n",
            "160/160 [==============================] - 0s 695us/step - loss: 1.2926 - accuracy: 0.5375 - val_loss: nan - val_accuracy: 0.6250\n",
            "Epoch 10/300\n",
            "160/160 [==============================] - 0s 701us/step - loss: 0.9562 - accuracy: 0.5437 - val_loss: nan - val_accuracy: 0.4750\n",
            "Epoch 11/300\n",
            "160/160 [==============================] - 0s 757us/step - loss: 1.1095 - accuracy: 0.6250 - val_loss: nan - val_accuracy: 0.6000\n",
            "Epoch 12/300\n",
            "160/160 [==============================] - 0s 704us/step - loss: 0.8376 - accuracy: 0.5625 - val_loss: nan - val_accuracy: 0.6750\n",
            "Epoch 13/300\n",
            "160/160 [==============================] - 0s 690us/step - loss: 0.8257 - accuracy: 0.6313 - val_loss: nan - val_accuracy: 0.6500\n",
            "Epoch 14/300\n",
            "160/160 [==============================] - 0s 704us/step - loss: 0.8072 - accuracy: 0.6812 - val_loss: nan - val_accuracy: 0.5500\n",
            "Epoch 15/300\n",
            "160/160 [==============================] - 0s 680us/step - loss: 0.6787 - accuracy: 0.5813 - val_loss: nan - val_accuracy: 0.6000\n",
            "Epoch 16/300\n",
            "160/160 [==============================] - 0s 664us/step - loss: 0.6813 - accuracy: 0.6875 - val_loss: nan - val_accuracy: 0.6750\n",
            "Epoch 17/300\n",
            "160/160 [==============================] - 0s 711us/step - loss: 0.6114 - accuracy: 0.7250 - val_loss: nan - val_accuracy: 0.6000\n",
            "Epoch 18/300\n",
            "160/160 [==============================] - 0s 666us/step - loss: 0.6478 - accuracy: 0.6000 - val_loss: nan - val_accuracy: 0.6250\n",
            "Epoch 19/300\n",
            "160/160 [==============================] - 0s 670us/step - loss: 0.6182 - accuracy: 0.7188 - val_loss: nan - val_accuracy: 0.7000\n",
            "Epoch 20/300\n",
            "160/160 [==============================] - 0s 664us/step - loss: 0.5699 - accuracy: 0.7125 - val_loss: nan - val_accuracy: 0.6500\n",
            "Epoch 21/300\n",
            "160/160 [==============================] - 0s 704us/step - loss: 0.6462 - accuracy: 0.6187 - val_loss: nan - val_accuracy: 0.6250\n",
            "Epoch 22/300\n",
            "160/160 [==============================] - 0s 668us/step - loss: 0.6035 - accuracy: 0.7250 - val_loss: nan - val_accuracy: 0.7000\n",
            "Epoch 23/300\n",
            "160/160 [==============================] - 0s 669us/step - loss: 0.5846 - accuracy: 0.6687 - val_loss: nan - val_accuracy: 0.6250\n",
            "Epoch 24/300\n",
            "160/160 [==============================] - 0s 714us/step - loss: 0.5958 - accuracy: 0.6187 - val_loss: nan - val_accuracy: 0.6250\n",
            "Epoch 25/300\n",
            "160/160 [==============================] - 0s 684us/step - loss: 0.6011 - accuracy: 0.7125 - val_loss: nan - val_accuracy: 0.6250\n",
            "Epoch 26/300\n",
            "160/160 [==============================] - 0s 663us/step - loss: 0.5975 - accuracy: 0.6562 - val_loss: nan - val_accuracy: 0.6250\n",
            "Epoch 27/300\n",
            "160/160 [==============================] - 0s 673us/step - loss: 0.6243 - accuracy: 0.6875 - val_loss: nan - val_accuracy: 0.6250\n",
            "Epoch 28/300\n",
            "160/160 [==============================] - 0s 680us/step - loss: 0.5429 - accuracy: 0.7437 - val_loss: nan - val_accuracy: 0.6500\n",
            "Epoch 29/300\n",
            "160/160 [==============================] - 0s 670us/step - loss: 0.5684 - accuracy: 0.6562 - val_loss: nan - val_accuracy: 0.6000\n",
            "Epoch 30/300\n",
            "160/160 [==============================] - 0s 703us/step - loss: 0.5440 - accuracy: 0.7375 - val_loss: nan - val_accuracy: 0.6250\n",
            "Epoch 31/300\n",
            "160/160 [==============================] - 0s 653us/step - loss: 0.5679 - accuracy: 0.7000 - val_loss: nan - val_accuracy: 0.6500\n",
            "Epoch 32/300\n",
            "160/160 [==============================] - 0s 679us/step - loss: 0.5132 - accuracy: 0.7063 - val_loss: nan - val_accuracy: 0.6500\n",
            "Epoch 33/300\n",
            "160/160 [==============================] - 0s 660us/step - loss: 0.5319 - accuracy: 0.7125 - val_loss: nan - val_accuracy: 0.6250\n",
            "Epoch 34/300\n",
            "160/160 [==============================] - 0s 707us/step - loss: 0.5186 - accuracy: 0.7000 - val_loss: nan - val_accuracy: 0.6000\n",
            "Epoch 35/300\n",
            "160/160 [==============================] - 0s 688us/step - loss: 0.5102 - accuracy: 0.7312 - val_loss: nan - val_accuracy: 0.6250\n",
            "Epoch 36/300\n",
            "160/160 [==============================] - 0s 675us/step - loss: 0.4834 - accuracy: 0.7188 - val_loss: nan - val_accuracy: 0.6250\n",
            "Epoch 37/300\n",
            "160/160 [==============================] - 0s 689us/step - loss: 0.5037 - accuracy: 0.7063 - val_loss: nan - val_accuracy: 0.6250\n",
            "Epoch 38/300\n",
            "160/160 [==============================] - 0s 659us/step - loss: 0.4897 - accuracy: 0.7375 - val_loss: nan - val_accuracy: 0.6250\n",
            "Epoch 39/300\n",
            "160/160 [==============================] - 0s 678us/step - loss: 0.4830 - accuracy: 0.7125 - val_loss: nan - val_accuracy: 0.6250\n",
            "Epoch 40/300\n",
            "160/160 [==============================] - 0s 698us/step - loss: 0.4994 - accuracy: 0.7563 - val_loss: nan - val_accuracy: 0.6500\n",
            "Epoch 41/300\n",
            "160/160 [==============================] - 0s 684us/step - loss: 0.4758 - accuracy: 0.7188 - val_loss: nan - val_accuracy: 0.6500\n",
            "Epoch 42/300\n",
            "160/160 [==============================] - 0s 669us/step - loss: 0.4624 - accuracy: 0.7437 - val_loss: nan - val_accuracy: 0.6250\n",
            "Epoch 43/300\n",
            "160/160 [==============================] - 0s 680us/step - loss: 0.4665 - accuracy: 0.7750 - val_loss: nan - val_accuracy: 0.6250\n",
            "Epoch 44/300\n",
            "160/160 [==============================] - 0s 688us/step - loss: 0.4759 - accuracy: 0.7000 - val_loss: nan - val_accuracy: 0.6250\n",
            "Epoch 45/300\n",
            "160/160 [==============================] - 0s 684us/step - loss: 0.4910 - accuracy: 0.7750 - val_loss: nan - val_accuracy: 0.6500\n",
            "Epoch 46/300\n",
            "160/160 [==============================] - 0s 678us/step - loss: 0.5020 - accuracy: 0.6750 - val_loss: nan - val_accuracy: 0.7000\n",
            "Epoch 47/300\n",
            "160/160 [==============================] - 0s 747us/step - loss: 0.4467 - accuracy: 0.7750 - val_loss: nan - val_accuracy: 0.6250\n",
            "Epoch 48/300\n",
            "160/160 [==============================] - 0s 657us/step - loss: 0.4917 - accuracy: 0.7063 - val_loss: nan - val_accuracy: 0.6500\n",
            "Epoch 49/300\n",
            "160/160 [==============================] - 0s 657us/step - loss: 0.4558 - accuracy: 0.7437 - val_loss: nan - val_accuracy: 0.6750\n",
            "Epoch 50/300\n",
            "160/160 [==============================] - 0s 680us/step - loss: 0.4920 - accuracy: 0.7250 - val_loss: nan - val_accuracy: 0.6750\n",
            "Epoch 51/300\n",
            "160/160 [==============================] - 0s 671us/step - loss: 0.4313 - accuracy: 0.7812 - val_loss: nan - val_accuracy: 0.6750\n",
            "Epoch 52/300\n",
            "160/160 [==============================] - 0s 667us/step - loss: 0.4467 - accuracy: 0.7688 - val_loss: nan - val_accuracy: 0.6250\n",
            "Epoch 53/300\n",
            "160/160 [==============================] - 0s 719us/step - loss: 0.4606 - accuracy: 0.7000 - val_loss: nan - val_accuracy: 0.6750\n",
            "Epoch 54/300\n",
            "160/160 [==============================] - 0s 681us/step - loss: 0.5127 - accuracy: 0.7750 - val_loss: nan - val_accuracy: 0.6250\n",
            "Epoch 55/300\n",
            "160/160 [==============================] - 0s 684us/step - loss: 0.4829 - accuracy: 0.7063 - val_loss: nan - val_accuracy: 0.7000\n",
            "Epoch 56/300\n",
            "160/160 [==============================] - 0s 704us/step - loss: 0.5172 - accuracy: 0.7500 - val_loss: nan - val_accuracy: 0.7000\n",
            "Epoch 57/300\n",
            "160/160 [==============================] - 0s 674us/step - loss: 0.4942 - accuracy: 0.7250 - val_loss: nan - val_accuracy: 0.7000\n",
            "Epoch 58/300\n",
            "160/160 [==============================] - 0s 676us/step - loss: 0.4618 - accuracy: 0.7875 - val_loss: nan - val_accuracy: 0.7000\n",
            "Epoch 59/300\n",
            "160/160 [==============================] - 0s 675us/step - loss: 0.5051 - accuracy: 0.7312 - val_loss: nan - val_accuracy: 0.6750\n",
            "Epoch 60/300\n",
            "160/160 [==============================] - 0s 680us/step - loss: 0.5050 - accuracy: 0.7125 - val_loss: nan - val_accuracy: 0.7250\n",
            "Epoch 61/300\n",
            "160/160 [==============================] - 0s 673us/step - loss: 0.5342 - accuracy: 0.7312 - val_loss: nan - val_accuracy: 0.6500\n",
            "Epoch 62/300\n",
            "160/160 [==============================] - 0s 700us/step - loss: 0.4307 - accuracy: 0.7750 - val_loss: nan - val_accuracy: 0.6250\n",
            "Epoch 63/300\n",
            "160/160 [==============================] - 0s 681us/step - loss: 0.4458 - accuracy: 0.7875 - val_loss: nan - val_accuracy: 0.6500\n",
            "Epoch 64/300\n",
            "160/160 [==============================] - 0s 674us/step - loss: 0.4669 - accuracy: 0.7250 - val_loss: nan - val_accuracy: 0.7250\n",
            "Epoch 65/300\n",
            "160/160 [==============================] - 0s 694us/step - loss: 0.4805 - accuracy: 0.8062 - val_loss: nan - val_accuracy: 0.6250\n",
            "Epoch 66/300\n",
            "160/160 [==============================] - 0s 688us/step - loss: 0.5258 - accuracy: 0.6687 - val_loss: nan - val_accuracy: 0.7250\n",
            "Epoch 67/300\n",
            "160/160 [==============================] - 0s 834us/step - loss: 0.5299 - accuracy: 0.7875 - val_loss: nan - val_accuracy: 0.7000\n",
            "Epoch 68/300\n",
            "160/160 [==============================] - 0s 725us/step - loss: 0.5450 - accuracy: 0.6875 - val_loss: nan - val_accuracy: 0.7000\n",
            "Epoch 69/300\n",
            "160/160 [==============================] - 0s 684us/step - loss: 0.4477 - accuracy: 0.7688 - val_loss: nan - val_accuracy: 0.6750\n",
            "Epoch 70/300\n",
            "160/160 [==============================] - 0s 670us/step - loss: 0.5000 - accuracy: 0.7563 - val_loss: nan - val_accuracy: 0.6250\n",
            "Epoch 71/300\n",
            "160/160 [==============================] - 0s 684us/step - loss: 0.5257 - accuracy: 0.7437 - val_loss: nan - val_accuracy: 0.7000\n",
            "Epoch 72/300\n",
            "160/160 [==============================] - 0s 691us/step - loss: 0.4897 - accuracy: 0.7500 - val_loss: nan - val_accuracy: 0.6500\n",
            "Epoch 73/300\n",
            "160/160 [==============================] - 0s 661us/step - loss: 0.4488 - accuracy: 0.7750 - val_loss: nan - val_accuracy: 0.7250\n",
            "Epoch 74/300\n",
            "160/160 [==============================] - 0s 666us/step - loss: 0.4122 - accuracy: 0.7875 - val_loss: nan - val_accuracy: 0.6000\n",
            "Epoch 75/300\n",
            "160/160 [==============================] - 0s 689us/step - loss: 0.4425 - accuracy: 0.7625 - val_loss: nan - val_accuracy: 0.6750\n",
            "Epoch 76/300\n",
            "160/160 [==============================] - 0s 665us/step - loss: 0.4544 - accuracy: 0.7937 - val_loss: nan - val_accuracy: 0.7000\n",
            "Epoch 77/300\n",
            "160/160 [==============================] - 0s 658us/step - loss: 0.4124 - accuracy: 0.7625 - val_loss: nan - val_accuracy: 0.7250\n",
            "Epoch 78/300\n",
            "160/160 [==============================] - 0s 684us/step - loss: 0.3993 - accuracy: 0.7937 - val_loss: nan - val_accuracy: 0.7250\n",
            "Epoch 79/300\n",
            "160/160 [==============================] - 0s 673us/step - loss: 0.3967 - accuracy: 0.7937 - val_loss: nan - val_accuracy: 0.6750\n",
            "Epoch 80/300\n",
            "160/160 [==============================] - 0s 664us/step - loss: 0.4072 - accuracy: 0.7875 - val_loss: nan - val_accuracy: 0.7250\n",
            "Epoch 81/300\n",
            "160/160 [==============================] - 0s 694us/step - loss: 0.3961 - accuracy: 0.7937 - val_loss: nan - val_accuracy: 0.7250\n",
            "Epoch 82/300\n",
            "160/160 [==============================] - 0s 693us/step - loss: 0.3971 - accuracy: 0.7875 - val_loss: nan - val_accuracy: 0.7250\n",
            "Epoch 83/300\n",
            "160/160 [==============================] - 0s 769us/step - loss: 0.4111 - accuracy: 0.7937 - val_loss: nan - val_accuracy: 0.7250\n",
            "Epoch 84/300\n",
            "160/160 [==============================] - 0s 735us/step - loss: 0.4578 - accuracy: 0.7563 - val_loss: nan - val_accuracy: 0.7250\n",
            "Epoch 85/300\n",
            "160/160 [==============================] - 0s 670us/step - loss: 0.5205 - accuracy: 0.7875 - val_loss: nan - val_accuracy: 0.7250\n",
            "Epoch 86/300\n",
            "160/160 [==============================] - 0s 707us/step - loss: 0.4820 - accuracy: 0.7250 - val_loss: nan - val_accuracy: 0.7250\n",
            "Epoch 87/300\n",
            "160/160 [==============================] - 0s 675us/step - loss: 0.4776 - accuracy: 0.7625 - val_loss: nan - val_accuracy: 0.7000\n",
            "Epoch 88/300\n",
            "160/160 [==============================] - 0s 714us/step - loss: 0.4062 - accuracy: 0.7937 - val_loss: nan - val_accuracy: 0.7000\n",
            "Epoch 89/300\n",
            "160/160 [==============================] - 0s 730us/step - loss: 0.4760 - accuracy: 0.7625 - val_loss: nan - val_accuracy: 0.6750\n",
            "Epoch 90/300\n",
            "160/160 [==============================] - 0s 728us/step - loss: 0.4248 - accuracy: 0.7812 - val_loss: nan - val_accuracy: 0.6750\n",
            "Epoch 91/300\n",
            "160/160 [==============================] - 0s 712us/step - loss: 0.4101 - accuracy: 0.7812 - val_loss: nan - val_accuracy: 0.6750\n",
            "Epoch 92/300\n",
            "160/160 [==============================] - 0s 708us/step - loss: 0.4328 - accuracy: 0.8188 - val_loss: nan - val_accuracy: 0.6750\n",
            "Epoch 93/300\n",
            "160/160 [==============================] - 0s 702us/step - loss: 0.4165 - accuracy: 0.7625 - val_loss: nan - val_accuracy: 0.7250\n",
            "Epoch 94/300\n",
            "160/160 [==============================] - 0s 682us/step - loss: 0.4232 - accuracy: 0.8188 - val_loss: nan - val_accuracy: 0.7250\n",
            "Epoch 95/300\n",
            "160/160 [==============================] - 0s 692us/step - loss: 0.4169 - accuracy: 0.7437 - val_loss: nan - val_accuracy: 0.7250\n",
            "Epoch 96/300\n",
            "160/160 [==============================] - 0s 701us/step - loss: 0.3981 - accuracy: 0.8188 - val_loss: nan - val_accuracy: 0.7000\n",
            "Epoch 97/300\n",
            "160/160 [==============================] - 0s 710us/step - loss: 0.3828 - accuracy: 0.8000 - val_loss: nan - val_accuracy: 0.7000\n",
            "Epoch 98/300\n",
            "160/160 [==============================] - 0s 709us/step - loss: 0.3967 - accuracy: 0.7688 - val_loss: nan - val_accuracy: 0.7000\n",
            "Epoch 99/300\n",
            "160/160 [==============================] - 0s 679us/step - loss: 0.3929 - accuracy: 0.8125 - val_loss: nan - val_accuracy: 0.6750\n",
            "Epoch 100/300\n",
            "160/160 [==============================] - 0s 683us/step - loss: 0.3870 - accuracy: 0.7875 - val_loss: nan - val_accuracy: 0.7000\n",
            "Epoch 101/300\n",
            "160/160 [==============================] - 0s 733us/step - loss: 0.3947 - accuracy: 0.8313 - val_loss: nan - val_accuracy: 0.6750\n",
            "Epoch 102/300\n",
            "160/160 [==============================] - 0s 715us/step - loss: 0.4406 - accuracy: 0.7500 - val_loss: nan - val_accuracy: 0.7000\n",
            "Epoch 103/300\n",
            "160/160 [==============================] - 0s 692us/step - loss: 0.4678 - accuracy: 0.7937 - val_loss: nan - val_accuracy: 0.7250\n",
            "Epoch 104/300\n",
            "160/160 [==============================] - 0s 720us/step - loss: 0.4056 - accuracy: 0.7937 - val_loss: nan - val_accuracy: 0.7250\n",
            "Epoch 105/300\n",
            "160/160 [==============================] - 0s 726us/step - loss: 0.4043 - accuracy: 0.8062 - val_loss: nan - val_accuracy: 0.7000\n",
            "Epoch 106/300\n",
            "160/160 [==============================] - 0s 715us/step - loss: 0.4266 - accuracy: 0.8000 - val_loss: nan - val_accuracy: 0.7250\n",
            "Epoch 107/300\n",
            "160/160 [==============================] - 0s 706us/step - loss: 0.3725 - accuracy: 0.8188 - val_loss: nan - val_accuracy: 0.7000\n",
            "Epoch 108/300\n",
            "160/160 [==============================] - 0s 707us/step - loss: 0.3948 - accuracy: 0.7937 - val_loss: nan - val_accuracy: 0.7000\n",
            "Epoch 109/300\n",
            "160/160 [==============================] - 0s 689us/step - loss: 0.3747 - accuracy: 0.8188 - val_loss: nan - val_accuracy: 0.7000\n",
            "Epoch 110/300\n",
            "160/160 [==============================] - 0s 716us/step - loss: 0.3803 - accuracy: 0.8062 - val_loss: nan - val_accuracy: 0.7000\n",
            "Epoch 111/300\n",
            "160/160 [==============================] - 0s 693us/step - loss: 0.3741 - accuracy: 0.8000 - val_loss: nan - val_accuracy: 0.6750\n",
            "Epoch 112/300\n",
            "160/160 [==============================] - 0s 725us/step - loss: 0.3821 - accuracy: 0.8313 - val_loss: nan - val_accuracy: 0.7500\n",
            "Epoch 113/300\n",
            "160/160 [==============================] - 0s 725us/step - loss: 0.3900 - accuracy: 0.8062 - val_loss: nan - val_accuracy: 0.6750\n",
            "Epoch 114/300\n",
            "160/160 [==============================] - 0s 687us/step - loss: 0.4330 - accuracy: 0.8125 - val_loss: nan - val_accuracy: 0.7250\n",
            "Epoch 115/300\n",
            "160/160 [==============================] - 0s 707us/step - loss: 0.4129 - accuracy: 0.7875 - val_loss: nan - val_accuracy: 0.6750\n",
            "Epoch 116/300\n",
            "160/160 [==============================] - 0s 775us/step - loss: 0.4406 - accuracy: 0.8313 - val_loss: nan - val_accuracy: 0.7250\n",
            "Epoch 117/300\n",
            "160/160 [==============================] - 0s 692us/step - loss: 0.4108 - accuracy: 0.7937 - val_loss: nan - val_accuracy: 0.7000\n",
            "Epoch 118/300\n",
            "160/160 [==============================] - 0s 703us/step - loss: 0.4427 - accuracy: 0.7937 - val_loss: nan - val_accuracy: 0.7000\n",
            "Epoch 119/300\n",
            "160/160 [==============================] - 0s 722us/step - loss: 0.3972 - accuracy: 0.8375 - val_loss: nan - val_accuracy: 0.7250\n",
            "Epoch 120/300\n",
            "160/160 [==============================] - 0s 695us/step - loss: 0.4196 - accuracy: 0.7937 - val_loss: nan - val_accuracy: 0.7000\n",
            "Epoch 121/300\n",
            "160/160 [==============================] - 0s 688us/step - loss: 0.4370 - accuracy: 0.7750 - val_loss: nan - val_accuracy: 0.7000\n",
            "Epoch 122/300\n",
            "160/160 [==============================] - 0s 719us/step - loss: 0.4452 - accuracy: 0.7500 - val_loss: nan - val_accuracy: 0.7000\n",
            "Epoch 123/300\n",
            "160/160 [==============================] - 0s 687us/step - loss: 0.3579 - accuracy: 0.8375 - val_loss: nan - val_accuracy: 0.6500\n",
            "Epoch 124/300\n",
            "160/160 [==============================] - 0s 696us/step - loss: 0.4233 - accuracy: 0.7563 - val_loss: nan - val_accuracy: 0.6750\n",
            "Epoch 125/300\n",
            "160/160 [==============================] - 0s 714us/step - loss: 0.4498 - accuracy: 0.8062 - val_loss: nan - val_accuracy: 0.7000\n",
            "Epoch 126/300\n",
            "160/160 [==============================] - 0s 722us/step - loss: 0.4733 - accuracy: 0.7250 - val_loss: nan - val_accuracy: 0.6750\n",
            "Epoch 127/300\n",
            "160/160 [==============================] - 0s 697us/step - loss: 0.4498 - accuracy: 0.7812 - val_loss: nan - val_accuracy: 0.7000\n",
            "Epoch 128/300\n",
            "160/160 [==============================] - 0s 739us/step - loss: 0.3972 - accuracy: 0.8000 - val_loss: nan - val_accuracy: 0.7000\n",
            "Epoch 129/300\n",
            "160/160 [==============================] - 0s 688us/step - loss: 0.3743 - accuracy: 0.8062 - val_loss: nan - val_accuracy: 0.7000\n",
            "Epoch 130/300\n",
            "160/160 [==============================] - 0s 685us/step - loss: 0.4215 - accuracy: 0.7750 - val_loss: nan - val_accuracy: 0.7250\n",
            "Epoch 131/300\n",
            "160/160 [==============================] - 0s 734us/step - loss: 0.3576 - accuracy: 0.8250 - val_loss: nan - val_accuracy: 0.7000\n",
            "Epoch 132/300\n",
            "160/160 [==============================] - 0s 725us/step - loss: 0.3792 - accuracy: 0.8125 - val_loss: nan - val_accuracy: 0.7250\n",
            "Epoch 133/300\n",
            "160/160 [==============================] - 0s 691us/step - loss: 0.3670 - accuracy: 0.8687 - val_loss: nan - val_accuracy: 0.6750\n",
            "Epoch 134/300\n",
            "160/160 [==============================] - 0s 738us/step - loss: 0.3973 - accuracy: 0.8313 - val_loss: nan - val_accuracy: 0.7250\n",
            "Epoch 135/300\n",
            "160/160 [==============================] - 0s 691us/step - loss: 0.3549 - accuracy: 0.8250 - val_loss: nan - val_accuracy: 0.7000\n",
            "Epoch 136/300\n",
            "160/160 [==============================] - 0s 682us/step - loss: 0.3674 - accuracy: 0.8500 - val_loss: nan - val_accuracy: 0.7250\n",
            "Epoch 137/300\n",
            "160/160 [==============================] - 0s 697us/step - loss: 0.3544 - accuracy: 0.8188 - val_loss: nan - val_accuracy: 0.7000\n",
            "Epoch 138/300\n",
            "160/160 [==============================] - 0s 737us/step - loss: 0.3703 - accuracy: 0.8438 - val_loss: nan - val_accuracy: 0.7250\n",
            "Epoch 139/300\n",
            "160/160 [==============================] - 0s 693us/step - loss: 0.4338 - accuracy: 0.7688 - val_loss: nan - val_accuracy: 0.6750\n",
            "Epoch 140/300\n",
            "160/160 [==============================] - 0s 735us/step - loss: 0.4372 - accuracy: 0.7812 - val_loss: nan - val_accuracy: 0.7250\n",
            "Epoch 141/300\n",
            "160/160 [==============================] - 0s 696us/step - loss: 0.4071 - accuracy: 0.7688 - val_loss: nan - val_accuracy: 0.7000\n",
            "Epoch 142/300\n",
            "160/160 [==============================] - 0s 684us/step - loss: 0.3613 - accuracy: 0.8375 - val_loss: nan - val_accuracy: 0.7000\n",
            "Epoch 143/300\n",
            "160/160 [==============================] - 0s 715us/step - loss: 0.3476 - accuracy: 0.8188 - val_loss: nan - val_accuracy: 0.6750\n",
            "Epoch 144/300\n",
            "160/160 [==============================] - 0s 731us/step - loss: 0.4345 - accuracy: 0.7750 - val_loss: nan - val_accuracy: 0.7000\n",
            "Epoch 145/300\n",
            "160/160 [==============================] - 0s 732us/step - loss: 0.3469 - accuracy: 0.8562 - val_loss: nan - val_accuracy: 0.7000\n",
            "Epoch 146/300\n",
            "160/160 [==============================] - 0s 712us/step - loss: 0.3747 - accuracy: 0.8000 - val_loss: nan - val_accuracy: 0.6750\n",
            "Epoch 147/300\n",
            "160/160 [==============================] - 0s 702us/step - loss: 0.4640 - accuracy: 0.7812 - val_loss: nan - val_accuracy: 0.6750\n",
            "Epoch 148/300\n",
            "160/160 [==============================] - 0s 760us/step - loss: 0.4344 - accuracy: 0.7563 - val_loss: nan - val_accuracy: 0.7000\n",
            "Epoch 149/300\n",
            "160/160 [==============================] - 0s 755us/step - loss: 0.4047 - accuracy: 0.8000 - val_loss: nan - val_accuracy: 0.7250\n",
            "Epoch 150/300\n",
            "160/160 [==============================] - 0s 695us/step - loss: 0.4128 - accuracy: 0.7625 - val_loss: nan - val_accuracy: 0.7000\n",
            "Epoch 151/300\n",
            "160/160 [==============================] - 0s 707us/step - loss: 0.3784 - accuracy: 0.7937 - val_loss: nan - val_accuracy: 0.7000\n",
            "Epoch 152/300\n",
            "160/160 [==============================] - 0s 690us/step - loss: 0.3677 - accuracy: 0.8313 - val_loss: nan - val_accuracy: 0.7250\n",
            "Epoch 153/300\n",
            "160/160 [==============================] - 0s 699us/step - loss: 0.3798 - accuracy: 0.8313 - val_loss: nan - val_accuracy: 0.7000\n",
            "Epoch 154/300\n",
            "160/160 [==============================] - 0s 705us/step - loss: 0.3491 - accuracy: 0.8438 - val_loss: nan - val_accuracy: 0.7250\n",
            "Epoch 155/300\n",
            "160/160 [==============================] - 0s 686us/step - loss: 0.3648 - accuracy: 0.8375 - val_loss: nan - val_accuracy: 0.7000\n",
            "Epoch 156/300\n",
            "160/160 [==============================] - 0s 847us/step - loss: 0.3775 - accuracy: 0.8188 - val_loss: nan - val_accuracy: 0.7000\n",
            "Epoch 157/300\n",
            "160/160 [==============================] - 0s 738us/step - loss: 0.3997 - accuracy: 0.8062 - val_loss: nan - val_accuracy: 0.7250\n",
            "Epoch 158/300\n",
            "160/160 [==============================] - 0s 691us/step - loss: 0.3946 - accuracy: 0.7812 - val_loss: nan - val_accuracy: 0.7000\n",
            "Epoch 159/300\n",
            "160/160 [==============================] - 0s 699us/step - loss: 0.4022 - accuracy: 0.8062 - val_loss: nan - val_accuracy: 0.7000\n",
            "Epoch 160/300\n",
            "160/160 [==============================] - 0s 699us/step - loss: 0.4057 - accuracy: 0.7688 - val_loss: nan - val_accuracy: 0.7000\n",
            "Epoch 161/300\n",
            "160/160 [==============================] - 0s 724us/step - loss: 0.3320 - accuracy: 0.8625 - val_loss: nan - val_accuracy: 0.6750\n",
            "Epoch 162/300\n",
            "160/160 [==============================] - 0s 722us/step - loss: 0.3692 - accuracy: 0.7937 - val_loss: nan - val_accuracy: 0.7000\n",
            "Epoch 163/300\n",
            "160/160 [==============================] - 0s 742us/step - loss: 0.3655 - accuracy: 0.8500 - val_loss: nan - val_accuracy: 0.6750\n",
            "Epoch 164/300\n",
            "160/160 [==============================] - 0s 692us/step - loss: 0.3448 - accuracy: 0.8500 - val_loss: nan - val_accuracy: 0.7500\n",
            "Epoch 165/300\n",
            "160/160 [==============================] - 0s 691us/step - loss: 0.3728 - accuracy: 0.8000 - val_loss: nan - val_accuracy: 0.7250\n",
            "Epoch 166/300\n",
            "160/160 [==============================] - 0s 730us/step - loss: 0.3352 - accuracy: 0.8438 - val_loss: nan - val_accuracy: 0.7500\n",
            "Epoch 167/300\n",
            "160/160 [==============================] - 0s 730us/step - loss: 0.3381 - accuracy: 0.8562 - val_loss: nan - val_accuracy: 0.7000\n",
            "Epoch 168/300\n",
            "160/160 [==============================] - 0s 687us/step - loss: 0.3572 - accuracy: 0.8375 - val_loss: nan - val_accuracy: 0.7500\n",
            "Epoch 169/300\n",
            "160/160 [==============================] - 0s 688us/step - loss: 0.3478 - accuracy: 0.8375 - val_loss: nan - val_accuracy: 0.7250\n",
            "Epoch 170/300\n",
            "160/160 [==============================] - 0s 707us/step - loss: 0.3344 - accuracy: 0.8375 - val_loss: nan - val_accuracy: 0.7000\n",
            "Epoch 171/300\n",
            "160/160 [==============================] - 0s 692us/step - loss: 0.3386 - accuracy: 0.8375 - val_loss: nan - val_accuracy: 0.7000\n",
            "Epoch 172/300\n",
            "160/160 [==============================] - 0s 679us/step - loss: 0.3309 - accuracy: 0.8438 - val_loss: nan - val_accuracy: 0.7000\n",
            "Epoch 173/300\n",
            "160/160 [==============================] - 0s 720us/step - loss: 0.3322 - accuracy: 0.8500 - val_loss: nan - val_accuracy: 0.7250\n",
            "Epoch 174/300\n",
            "160/160 [==============================] - 0s 678us/step - loss: 0.3309 - accuracy: 0.8625 - val_loss: nan - val_accuracy: 0.7250\n",
            "Epoch 175/300\n",
            "160/160 [==============================] - 0s 690us/step - loss: 0.3352 - accuracy: 0.8562 - val_loss: nan - val_accuracy: 0.7000\n",
            "Epoch 176/300\n",
            "160/160 [==============================] - 0s 694us/step - loss: 0.3305 - accuracy: 0.8438 - val_loss: nan - val_accuracy: 0.7250\n",
            "Epoch 177/300\n",
            "160/160 [==============================] - 0s 687us/step - loss: 0.3472 - accuracy: 0.8375 - val_loss: nan - val_accuracy: 0.6750\n",
            "Epoch 178/300\n",
            "160/160 [==============================] - 0s 699us/step - loss: 0.3397 - accuracy: 0.8500 - val_loss: nan - val_accuracy: 0.7250\n",
            "Epoch 179/300\n",
            "160/160 [==============================] - 0s 675us/step - loss: 0.3331 - accuracy: 0.8438 - val_loss: nan - val_accuracy: 0.7000\n",
            "Epoch 180/300\n",
            "160/160 [==============================] - 0s 674us/step - loss: 0.3298 - accuracy: 0.8438 - val_loss: nan - val_accuracy: 0.7250\n",
            "Epoch 181/300\n",
            "160/160 [==============================] - 0s 696us/step - loss: 0.3360 - accuracy: 0.8313 - val_loss: nan - val_accuracy: 0.7000\n",
            "Epoch 182/300\n",
            "160/160 [==============================] - 0s 665us/step - loss: 0.3623 - accuracy: 0.8500 - val_loss: nan - val_accuracy: 0.7500\n",
            "Epoch 183/300\n",
            "160/160 [==============================] - 0s 683us/step - loss: 0.4000 - accuracy: 0.7688 - val_loss: nan - val_accuracy: 0.6750\n",
            "Epoch 184/300\n",
            "160/160 [==============================] - 0s 686us/step - loss: 0.4352 - accuracy: 0.7875 - val_loss: nan - val_accuracy: 0.7500\n",
            "Epoch 185/300\n",
            "160/160 [==============================] - 0s 657us/step - loss: 0.3731 - accuracy: 0.7812 - val_loss: nan - val_accuracy: 0.7250\n",
            "Epoch 186/300\n",
            "160/160 [==============================] - 0s 667us/step - loss: 0.3341 - accuracy: 0.8500 - val_loss: nan - val_accuracy: 0.6750\n",
            "Epoch 187/300\n",
            "160/160 [==============================] - 0s 674us/step - loss: 0.3694 - accuracy: 0.8125 - val_loss: nan - val_accuracy: 0.7000\n",
            "Epoch 188/300\n",
            "160/160 [==============================] - 0s 735us/step - loss: 0.3693 - accuracy: 0.8438 - val_loss: nan - val_accuracy: 0.7000\n",
            "Epoch 189/300\n",
            "160/160 [==============================] - 0s 691us/step - loss: 0.3467 - accuracy: 0.7937 - val_loss: nan - val_accuracy: 0.7250\n",
            "Epoch 190/300\n",
            "160/160 [==============================] - 0s 683us/step - loss: 0.3251 - accuracy: 0.8625 - val_loss: nan - val_accuracy: 0.7000\n",
            "Epoch 191/300\n",
            "160/160 [==============================] - 0s 711us/step - loss: 0.3442 - accuracy: 0.8500 - val_loss: nan - val_accuracy: 0.6750\n",
            "Epoch 192/300\n",
            "160/160 [==============================] - 0s 679us/step - loss: 0.3610 - accuracy: 0.8375 - val_loss: nan - val_accuracy: 0.7000\n",
            "Epoch 193/300\n",
            "160/160 [==============================] - 0s 678us/step - loss: 0.3476 - accuracy: 0.8500 - val_loss: nan - val_accuracy: 0.7250\n",
            "Epoch 194/300\n",
            "160/160 [==============================] - 0s 676us/step - loss: 0.3407 - accuracy: 0.8375 - val_loss: nan - val_accuracy: 0.6750\n",
            "Epoch 195/300\n",
            "160/160 [==============================] - 0s 661us/step - loss: 0.3747 - accuracy: 0.8250 - val_loss: nan - val_accuracy: 0.7250\n",
            "Epoch 196/300\n",
            "160/160 [==============================] - 0s 660us/step - loss: 0.3556 - accuracy: 0.8313 - val_loss: nan - val_accuracy: 0.6750\n",
            "Epoch 197/300\n",
            "160/160 [==============================] - 0s 723us/step - loss: 0.3415 - accuracy: 0.8562 - val_loss: nan - val_accuracy: 0.7250\n",
            "Epoch 198/300\n",
            "160/160 [==============================] - 0s 671us/step - loss: 0.3195 - accuracy: 0.8625 - val_loss: nan - val_accuracy: 0.7000\n",
            "Epoch 199/300\n",
            "160/160 [==============================] - 0s 661us/step - loss: 0.3260 - accuracy: 0.8500 - val_loss: nan - val_accuracy: 0.7250\n",
            "Epoch 200/300\n",
            "160/160 [==============================] - 0s 677us/step - loss: 0.3301 - accuracy: 0.8500 - val_loss: nan - val_accuracy: 0.6750\n",
            "Epoch 201/300\n",
            "160/160 [==============================] - 0s 698us/step - loss: 0.3284 - accuracy: 0.8500 - val_loss: nan - val_accuracy: 0.7500\n",
            "Epoch 202/300\n",
            "160/160 [==============================] - 0s 681us/step - loss: 0.3480 - accuracy: 0.8188 - val_loss: nan - val_accuracy: 0.7000\n",
            "Epoch 203/300\n",
            "160/160 [==============================] - 0s 680us/step - loss: 0.3940 - accuracy: 0.8062 - val_loss: nan - val_accuracy: 0.7500\n",
            "Epoch 204/300\n",
            "160/160 [==============================] - 0s 666us/step - loss: 0.4069 - accuracy: 0.7750 - val_loss: nan - val_accuracy: 0.7000\n",
            "Epoch 205/300\n",
            "160/160 [==============================] - 0s 679us/step - loss: 0.3992 - accuracy: 0.8250 - val_loss: nan - val_accuracy: 0.7250\n",
            "Epoch 206/300\n",
            "160/160 [==============================] - 0s 685us/step - loss: 0.3631 - accuracy: 0.7937 - val_loss: nan - val_accuracy: 0.7250\n",
            "Epoch 207/300\n",
            "160/160 [==============================] - 0s 670us/step - loss: 0.3652 - accuracy: 0.8188 - val_loss: nan - val_accuracy: 0.7000\n",
            "Epoch 208/300\n",
            "160/160 [==============================] - 0s 664us/step - loss: 0.3296 - accuracy: 0.8250 - val_loss: nan - val_accuracy: 0.7500\n",
            "Epoch 209/300\n",
            "160/160 [==============================] - 0s 737us/step - loss: 0.3960 - accuracy: 0.8188 - val_loss: nan - val_accuracy: 0.7250\n",
            "Epoch 210/300\n",
            "160/160 [==============================] - 0s 691us/step - loss: 0.3148 - accuracy: 0.8438 - val_loss: nan - val_accuracy: 0.7750\n",
            "Epoch 211/300\n",
            "160/160 [==============================] - 0s 672us/step - loss: 0.3264 - accuracy: 0.8500 - val_loss: nan - val_accuracy: 0.7000\n",
            "Epoch 212/300\n",
            "160/160 [==============================] - 0s 663us/step - loss: 0.3340 - accuracy: 0.8500 - val_loss: nan - val_accuracy: 0.7500\n",
            "Epoch 213/300\n",
            "160/160 [==============================] - 0s 674us/step - loss: 0.3226 - accuracy: 0.8562 - val_loss: nan - val_accuracy: 0.7250\n",
            "Epoch 214/300\n",
            "160/160 [==============================] - 0s 679us/step - loss: 0.3241 - accuracy: 0.8625 - val_loss: nan - val_accuracy: 0.7500\n",
            "Epoch 215/300\n",
            "160/160 [==============================] - 0s 649us/step - loss: 0.3219 - accuracy: 0.8875 - val_loss: nan - val_accuracy: 0.7500\n",
            "Epoch 216/300\n",
            "160/160 [==============================] - 0s 692us/step - loss: 0.3083 - accuracy: 0.8687 - val_loss: nan - val_accuracy: 0.7250\n",
            "Epoch 217/300\n",
            "160/160 [==============================] - 0s 669us/step - loss: 0.3155 - accuracy: 0.8813 - val_loss: nan - val_accuracy: 0.7500\n",
            "Epoch 218/300\n",
            "160/160 [==============================] - 0s 672us/step - loss: 0.3068 - accuracy: 0.8875 - val_loss: nan - val_accuracy: 0.7500\n",
            "Epoch 219/300\n",
            "160/160 [==============================] - 0s 663us/step - loss: 0.3044 - accuracy: 0.8750 - val_loss: nan - val_accuracy: 0.7000\n",
            "Epoch 220/300\n",
            "160/160 [==============================] - 0s 693us/step - loss: 0.3190 - accuracy: 0.8562 - val_loss: nan - val_accuracy: 0.7500\n",
            "Epoch 221/300\n",
            "160/160 [==============================] - 0s 676us/step - loss: 0.3197 - accuracy: 0.8562 - val_loss: nan - val_accuracy: 0.7000\n",
            "Epoch 222/300\n",
            "160/160 [==============================] - 0s 660us/step - loss: 0.3720 - accuracy: 0.8438 - val_loss: nan - val_accuracy: 0.7000\n",
            "Epoch 223/300\n",
            "160/160 [==============================] - 0s 719us/step - loss: 0.3590 - accuracy: 0.7812 - val_loss: nan - val_accuracy: 0.7000\n",
            "Epoch 224/300\n",
            "160/160 [==============================] - 0s 667us/step - loss: 0.3215 - accuracy: 0.8562 - val_loss: nan - val_accuracy: 0.7500\n",
            "Epoch 225/300\n",
            "160/160 [==============================] - 0s 677us/step - loss: 0.3373 - accuracy: 0.8562 - val_loss: nan - val_accuracy: 0.7000\n",
            "Epoch 226/300\n",
            "160/160 [==============================] - 0s 681us/step - loss: 0.3244 - accuracy: 0.8625 - val_loss: nan - val_accuracy: 0.7250\n",
            "Epoch 227/300\n",
            "160/160 [==============================] - 0s 672us/step - loss: 0.3222 - accuracy: 0.8625 - val_loss: nan - val_accuracy: 0.7000\n",
            "Epoch 228/300\n",
            "160/160 [==============================] - 0s 667us/step - loss: 0.3091 - accuracy: 0.8625 - val_loss: nan - val_accuracy: 0.7000\n",
            "Epoch 229/300\n",
            "160/160 [==============================] - 0s 736us/step - loss: 0.3017 - accuracy: 0.8562 - val_loss: nan - val_accuracy: 0.7250\n",
            "Epoch 230/300\n",
            "160/160 [==============================] - 0s 696us/step - loss: 0.2970 - accuracy: 0.8750 - val_loss: nan - val_accuracy: 0.7000\n",
            "Epoch 231/300\n",
            "160/160 [==============================] - 0s 667us/step - loss: 0.3008 - accuracy: 0.8625 - val_loss: nan - val_accuracy: 0.7500\n",
            "Epoch 232/300\n",
            "160/160 [==============================] - 0s 663us/step - loss: 0.3106 - accuracy: 0.8687 - val_loss: nan - val_accuracy: 0.7500\n",
            "Epoch 233/300\n",
            "160/160 [==============================] - 0s 668us/step - loss: 0.3120 - accuracy: 0.8375 - val_loss: nan - val_accuracy: 0.7250\n",
            "Epoch 234/300\n",
            "160/160 [==============================] - 0s 669us/step - loss: 0.3063 - accuracy: 0.8687 - val_loss: nan - val_accuracy: 0.7250\n",
            "Epoch 235/300\n",
            "160/160 [==============================] - 0s 694us/step - loss: 0.3231 - accuracy: 0.8500 - val_loss: nan - val_accuracy: 0.7000\n",
            "Epoch 236/300\n",
            "160/160 [==============================] - 0s 699us/step - loss: 0.3397 - accuracy: 0.8687 - val_loss: nan - val_accuracy: 0.7500\n",
            "Epoch 237/300\n",
            "160/160 [==============================] - 0s 691us/step - loss: 0.3071 - accuracy: 0.8625 - val_loss: nan - val_accuracy: 0.7500\n",
            "Epoch 238/300\n",
            "160/160 [==============================] - 0s 678us/step - loss: 0.3551 - accuracy: 0.8500 - val_loss: nan - val_accuracy: 0.7500\n",
            "Epoch 239/300\n",
            "160/160 [==============================] - 0s 684us/step - loss: 0.3224 - accuracy: 0.8562 - val_loss: nan - val_accuracy: 0.7250\n",
            "Epoch 240/300\n",
            "160/160 [==============================] - 0s 671us/step - loss: 0.3177 - accuracy: 0.8625 - val_loss: nan - val_accuracy: 0.7250\n",
            "Epoch 241/300\n",
            "160/160 [==============================] - 0s 694us/step - loss: 0.3006 - accuracy: 0.8750 - val_loss: nan - val_accuracy: 0.7250\n",
            "Epoch 242/300\n",
            "160/160 [==============================] - 0s 683us/step - loss: 0.2919 - accuracy: 0.8687 - val_loss: nan - val_accuracy: 0.7250\n",
            "Epoch 243/300\n",
            "160/160 [==============================] - 0s 669us/step - loss: 0.3101 - accuracy: 0.8750 - val_loss: nan - val_accuracy: 0.7250\n",
            "Epoch 244/300\n",
            "160/160 [==============================] - 0s 664us/step - loss: 0.3067 - accuracy: 0.8750 - val_loss: nan - val_accuracy: 0.7500\n",
            "Epoch 245/300\n",
            "160/160 [==============================] - 0s 708us/step - loss: 0.3441 - accuracy: 0.8313 - val_loss: nan - val_accuracy: 0.7000\n",
            "Epoch 246/300\n",
            "160/160 [==============================] - 0s 752us/step - loss: 0.3222 - accuracy: 0.8500 - val_loss: nan - val_accuracy: 0.7000\n",
            "Epoch 247/300\n",
            "160/160 [==============================] - 0s 761us/step - loss: 0.3214 - accuracy: 0.8562 - val_loss: nan - val_accuracy: 0.7000\n",
            "Epoch 248/300\n",
            "160/160 [==============================] - 0s 694us/step - loss: 0.3275 - accuracy: 0.8500 - val_loss: nan - val_accuracy: 0.7000\n",
            "Epoch 249/300\n",
            "160/160 [==============================] - 0s 682us/step - loss: 0.3300 - accuracy: 0.8562 - val_loss: nan - val_accuracy: 0.7500\n",
            "Epoch 250/300\n",
            "160/160 [==============================] - 0s 668us/step - loss: 0.3111 - accuracy: 0.8500 - val_loss: nan - val_accuracy: 0.7000\n",
            "Epoch 251/300\n",
            "160/160 [==============================] - 0s 677us/step - loss: 0.2967 - accuracy: 0.8625 - val_loss: nan - val_accuracy: 0.7250\n",
            "Epoch 252/300\n",
            "160/160 [==============================] - 0s 670us/step - loss: 0.2890 - accuracy: 0.8875 - val_loss: nan - val_accuracy: 0.7500\n",
            "Epoch 253/300\n",
            "160/160 [==============================] - 0s 700us/step - loss: 0.2884 - accuracy: 0.8875 - val_loss: nan - val_accuracy: 0.7500\n",
            "Epoch 254/300\n",
            "160/160 [==============================] - 0s 688us/step - loss: 0.2884 - accuracy: 0.8938 - val_loss: nan - val_accuracy: 0.7500\n",
            "Epoch 255/300\n",
            "160/160 [==============================] - 0s 674us/step - loss: 0.2882 - accuracy: 0.8813 - val_loss: nan - val_accuracy: 0.7750\n",
            "Epoch 256/300\n",
            "160/160 [==============================] - 0s 673us/step - loss: 0.2988 - accuracy: 0.8750 - val_loss: nan - val_accuracy: 0.7500\n",
            "Epoch 257/300\n",
            "160/160 [==============================] - 0s 677us/step - loss: 0.2996 - accuracy: 0.8750 - val_loss: nan - val_accuracy: 0.7000\n",
            "Epoch 258/300\n",
            "160/160 [==============================] - 0s 672us/step - loss: 0.3172 - accuracy: 0.8625 - val_loss: nan - val_accuracy: 0.7000\n",
            "Epoch 259/300\n",
            "160/160 [==============================] - 0s 706us/step - loss: 0.3149 - accuracy: 0.8562 - val_loss: nan - val_accuracy: 0.7000\n",
            "Epoch 260/300\n",
            "160/160 [==============================] - 0s 684us/step - loss: 0.3104 - accuracy: 0.8625 - val_loss: nan - val_accuracy: 0.7500\n",
            "Epoch 261/300\n",
            "160/160 [==============================] - 0s 695us/step - loss: 0.3079 - accuracy: 0.8562 - val_loss: nan - val_accuracy: 0.7000\n",
            "Epoch 262/300\n",
            "160/160 [==============================] - 0s 703us/step - loss: 0.3053 - accuracy: 0.8625 - val_loss: nan - val_accuracy: 0.7500\n",
            "Epoch 263/300\n",
            "160/160 [==============================] - 0s 679us/step - loss: 0.2934 - accuracy: 0.8750 - val_loss: nan - val_accuracy: 0.7000\n",
            "Epoch 264/300\n",
            "160/160 [==============================] - 0s 673us/step - loss: 0.2960 - accuracy: 0.8625 - val_loss: nan - val_accuracy: 0.7500\n",
            "Epoch 265/300\n",
            "160/160 [==============================] - 0s 702us/step - loss: 0.2986 - accuracy: 0.8562 - val_loss: nan - val_accuracy: 0.7000\n",
            "Epoch 266/300\n",
            "160/160 [==============================] - 0s 693us/step - loss: 0.3003 - accuracy: 0.8687 - val_loss: nan - val_accuracy: 0.7500\n",
            "Epoch 267/300\n",
            "160/160 [==============================] - 0s 716us/step - loss: 0.2910 - accuracy: 0.8687 - val_loss: nan - val_accuracy: 0.7750\n",
            "Epoch 268/300\n",
            "160/160 [==============================] - 0s 708us/step - loss: 0.2838 - accuracy: 0.8938 - val_loss: nan - val_accuracy: 0.7500\n",
            "Epoch 269/300\n",
            "160/160 [==============================] - 0s 697us/step - loss: 0.2786 - accuracy: 0.8813 - val_loss: nan - val_accuracy: 0.7500\n",
            "Epoch 270/300\n",
            "160/160 [==============================] - 0s 679us/step - loss: 0.3038 - accuracy: 0.8813 - val_loss: nan - val_accuracy: 0.7500\n",
            "Epoch 271/300\n",
            "160/160 [==============================] - 0s 674us/step - loss: 0.2957 - accuracy: 0.8625 - val_loss: nan - val_accuracy: 0.7250\n",
            "Epoch 272/300\n",
            "160/160 [==============================] - 0s 686us/step - loss: 0.3073 - accuracy: 0.8813 - val_loss: nan - val_accuracy: 0.7500\n",
            "Epoch 273/300\n",
            "160/160 [==============================] - 0s 676us/step - loss: 0.2977 - accuracy: 0.8938 - val_loss: nan - val_accuracy: 0.7500\n",
            "Epoch 274/300\n",
            "160/160 [==============================] - 0s 704us/step - loss: 0.2905 - accuracy: 0.8687 - val_loss: nan - val_accuracy: 0.7250\n",
            "Epoch 275/300\n",
            "160/160 [==============================] - 0s 686us/step - loss: 0.2835 - accuracy: 0.8875 - val_loss: nan - val_accuracy: 0.7500\n",
            "Epoch 276/300\n",
            "160/160 [==============================] - 0s 679us/step - loss: 0.2856 - accuracy: 0.8938 - val_loss: nan - val_accuracy: 0.7250\n",
            "Epoch 277/300\n",
            "160/160 [==============================] - 0s 674us/step - loss: 0.2714 - accuracy: 0.8813 - val_loss: nan - val_accuracy: 0.7250\n",
            "Epoch 278/300\n",
            "160/160 [==============================] - 0s 687us/step - loss: 0.2897 - accuracy: 0.8562 - val_loss: nan - val_accuracy: 0.7500\n",
            "Epoch 279/300\n",
            "160/160 [==============================] - 0s 698us/step - loss: 0.2745 - accuracy: 0.8875 - val_loss: nan - val_accuracy: 0.7750\n",
            "Epoch 280/300\n",
            "160/160 [==============================] - 0s 756us/step - loss: 0.2717 - accuracy: 0.8875 - val_loss: nan - val_accuracy: 0.7500\n",
            "Epoch 281/300\n",
            "160/160 [==============================] - 0s 680us/step - loss: 0.2704 - accuracy: 0.8875 - val_loss: nan - val_accuracy: 0.7250\n",
            "Epoch 282/300\n",
            "160/160 [==============================] - 0s 687us/step - loss: 0.2707 - accuracy: 0.8875 - val_loss: nan - val_accuracy: 0.7500\n",
            "Epoch 283/300\n",
            "160/160 [==============================] - 0s 687us/step - loss: 0.2909 - accuracy: 0.8750 - val_loss: nan - val_accuracy: 0.7000\n",
            "Epoch 284/300\n",
            "160/160 [==============================] - 0s 679us/step - loss: 0.3077 - accuracy: 0.8562 - val_loss: nan - val_accuracy: 0.7500\n",
            "Epoch 285/300\n",
            "160/160 [==============================] - 0s 674us/step - loss: 0.2999 - accuracy: 0.8625 - val_loss: nan - val_accuracy: 0.6750\n",
            "Epoch 286/300\n",
            "160/160 [==============================] - 0s 697us/step - loss: 0.3215 - accuracy: 0.8562 - val_loss: nan - val_accuracy: 0.7250\n",
            "Epoch 287/300\n",
            "160/160 [==============================] - 0s 714us/step - loss: 0.2905 - accuracy: 0.8562 - val_loss: nan - val_accuracy: 0.7000\n",
            "Epoch 288/300\n",
            "160/160 [==============================] - 0s 682us/step - loss: 0.2912 - accuracy: 0.8750 - val_loss: nan - val_accuracy: 0.7500\n",
            "Epoch 289/300\n",
            "160/160 [==============================] - 0s 692us/step - loss: 0.2908 - accuracy: 0.8750 - val_loss: nan - val_accuracy: 0.7500\n",
            "Epoch 290/300\n",
            "160/160 [==============================] - 0s 678us/step - loss: 0.2727 - accuracy: 0.9062 - val_loss: nan - val_accuracy: 0.7250\n",
            "Epoch 291/300\n",
            "160/160 [==============================] - 0s 685us/step - loss: 0.2653 - accuracy: 0.8875 - val_loss: nan - val_accuracy: 0.7500\n",
            "Epoch 292/300\n",
            "160/160 [==============================] - 0s 704us/step - loss: 0.2687 - accuracy: 0.9000 - val_loss: nan - val_accuracy: 0.7250\n",
            "Epoch 293/300\n",
            "160/160 [==============================] - 0s 705us/step - loss: 0.2630 - accuracy: 0.8875 - val_loss: nan - val_accuracy: 0.7500\n",
            "Epoch 294/300\n",
            "160/160 [==============================] - 0s 686us/step - loss: 0.2647 - accuracy: 0.9062 - val_loss: nan - val_accuracy: 0.7500\n",
            "Epoch 295/300\n",
            "160/160 [==============================] - 0s 684us/step - loss: 0.3112 - accuracy: 0.8500 - val_loss: nan - val_accuracy: 0.7500\n",
            "Epoch 296/300\n",
            "160/160 [==============================] - 0s 674us/step - loss: 0.2706 - accuracy: 0.8750 - val_loss: nan - val_accuracy: 0.7500\n",
            "Epoch 297/300\n",
            "160/160 [==============================] - 0s 685us/step - loss: 0.2769 - accuracy: 0.9000 - val_loss: nan - val_accuracy: 0.7500\n",
            "Epoch 298/300\n",
            "160/160 [==============================] - 0s 700us/step - loss: 0.2809 - accuracy: 0.8687 - val_loss: nan - val_accuracy: 0.7000\n",
            "Epoch 299/300\n",
            "160/160 [==============================] - 0s 696us/step - loss: 0.2810 - accuracy: 0.8750 - val_loss: nan - val_accuracy: 0.7500\n",
            "Epoch 300/300\n",
            "160/160 [==============================] - 0s 671us/step - loss: 0.2721 - accuracy: 0.8938 - val_loss: nan - val_accuracy: 0.7250\n"
          ],
          "name": "stdout"
        }
      ]
    },
    {
      "cell_type": "code",
      "metadata": {
        "trusted": true,
        "_uuid": "d43023d26a87e3c4702b96bea5962c990c76aa0a",
        "id": "Wl7-odnFPIvN",
        "colab_type": "code",
        "colab": {}
      },
      "source": [
        "y_pred = model.predict(X_test, batch_size=80)"
      ],
      "execution_count": 0,
      "outputs": []
    },
    {
      "cell_type": "code",
      "metadata": {
        "trusted": true,
        "_uuid": "20cfe7f5891e3c26c599fa4cd728ac0a499ac70e",
        "id": "9E0V7SSAPIvR",
        "colab_type": "code",
        "colab": {
          "base_uri": "https://localhost:8080/",
          "height": 170
        },
        "outputId": "83d07eba-1319-4bb0-c6df-6139b06e35a0"
      },
      "source": [
        "print(classification_report(y_test.argmax(axis=1), y_pred.argmax(axis=1)))"
      ],
      "execution_count": 37,
      "outputs": [
        {
          "output_type": "stream",
          "text": [
            "              precision    recall  f1-score   support\n",
            "\n",
            "           0       0.68      0.85      0.76        20\n",
            "           1       0.80      0.60      0.69        20\n",
            "\n",
            "    accuracy                           0.73        40\n",
            "   macro avg       0.74      0.72      0.72        40\n",
            "weighted avg       0.74      0.72      0.72        40\n",
            "\n"
          ],
          "name": "stdout"
        }
      ]
    },
    {
      "cell_type": "code",
      "metadata": {
        "trusted": true,
        "_uuid": "017f2431a45766fb0d4b2ef17ce613c1142ca085",
        "id": "dc0I9FBYPIvT",
        "colab_type": "code",
        "colab": {}
      },
      "source": [
        "# print(\"ranking-based average precision : {:.3f}\".format(label_ranking_average_precision_score(y_test.todense(), y_pred)))\n",
        "# print(\"Ranking loss : {:.3f}\".format(label_ranking_loss(y_test.todense(), y_pred)))\n",
        "# print(\"Coverage_error : {:.3f}\".format(coverage_error(y_test.todense(), y_pred)))"
      ],
      "execution_count": 0,
      "outputs": []
    },
    {
      "cell_type": "code",
      "metadata": {
        "trusted": true,
        "_uuid": "0fcf027f00a7031dd7dc7d25c0c6ff362c39954b",
        "id": "gnFeRvhZPIvZ",
        "colab_type": "code",
        "colab": {
          "base_uri": "https://localhost:8080/",
          "height": 386
        },
        "outputId": "65866c0d-e87e-4c90-f628-38b19fb86ef4"
      },
      "source": [
        "def plot_confusion_matrix(cm, classes,\n",
        "                          normalize=False,\n",
        "                          title='Confusion matrix',\n",
        "                          cmap=plt.cm.Blues):\n",
        "    \"\"\"\n",
        "    This function prints and plots the confusion matrix.\n",
        "    Normalization can be applied by setting `normalize=True`.\n",
        "    \"\"\"\n",
        "    if normalize:\n",
        "        cm = cm.astype('float') / cm.sum(axis=1)[:, np.newaxis]\n",
        "        print(\"Normalized confusion matrix\")\n",
        "    else:\n",
        "        print('Confusion matrix, without normalization')\n",
        "\n",
        "    plt.imshow(cm, interpolation='nearest', cmap=cmap)\n",
        "    plt.title(title)\n",
        "    plt.colorbar()\n",
        "    tick_marks = np.arange(len(classes))\n",
        "    plt.xticks(tick_marks, classes, rotation=45)\n",
        "    plt.yticks(tick_marks, classes)\n",
        "\n",
        "    fmt = '.2f' if normalize else 'd'\n",
        "    thresh = cm.max() / 2.\n",
        "    for i, j in itertools.product(range(cm.shape[0]), range(cm.shape[1])):\n",
        "        plt.text(j, i, format(cm[i, j], fmt),\n",
        "                 horizontalalignment=\"center\",\n",
        "                 color=\"white\" if cm[i, j] > thresh else \"black\")\n",
        "\n",
        "    plt.tight_layout()\n",
        "    plt.ylabel('True label')\n",
        "    plt.xlabel('Predicted label')\n",
        "\n",
        "# Compute confusion matrix\n",
        "cnf_matrix = confusion_matrix(y_test.argmax(axis=1), y_pred.argmax(axis=1))\n",
        "np.set_printoptions(precision=2)\n",
        "\n",
        "# Plot non-normalized confusion matrix\n",
        "plt.figure(figsize=(5, 5))\n",
        "plot_confusion_matrix(cnf_matrix, classes=['0', '1'],\n",
        "                      title='Confusion matrix, without normalization')\n",
        "plt.show()"
      ],
      "execution_count": 39,
      "outputs": [
        {
          "output_type": "stream",
          "text": [
            "Confusion matrix, without normalization\n"
          ],
          "name": "stdout"
        },
        {
          "output_type": "display_data",
          "data": {
            "image/png": "[encoded data removed]",
            "text/plain": [
              "<Figure size 360x360 with 2 Axes>"
            ]
          },
          "metadata": {
            "tags": []
          }
        }
      ]
    },
    {
      "cell_type": "code",
      "metadata": {
        "id": "rlmYo1uT2noY",
        "colab_type": "code",
        "colab": {}
      },
      "source": [
        ""
      ],
      "execution_count": 0,
      "outputs": []
    }
  ]
}